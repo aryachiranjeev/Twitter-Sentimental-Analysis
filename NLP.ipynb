{
 "cells": [
  {
   "cell_type": "code",
   "execution_count": 1,
   "metadata": {},
   "outputs": [],
   "source": [
    "import nltk\n"
   ]
  },
  {
   "cell_type": "code",
   "execution_count": 2,
   "metadata": {},
   "outputs": [
    {
     "name": "stdout",
     "output_type": "stream",
     "text": [
      "showing info https://raw.githubusercontent.com/nltk/nltk_data/gh-pages/index.xml\n"
     ]
    },
    {
     "data": {
      "text/plain": [
       "True"
      ]
     },
     "execution_count": 2,
     "metadata": {},
     "output_type": "execute_result"
    }
   ],
   "source": [
    "nltk.download()"
   ]
  },
  {
   "cell_type": "code",
   "execution_count": 3,
   "metadata": {},
   "outputs": [],
   "source": [
    "text=\"Hello i am chiranjeev. I miss my best friends alot(KMT)!!\""
   ]
  },
  {
   "cell_type": "code",
   "execution_count": 4,
   "metadata": {},
   "outputs": [],
   "source": [
    "#TOKENIZING\n",
    "from nltk.tokenize import sent_tokenize, word_tokenize"
   ]
  },
  {
   "cell_type": "code",
   "execution_count": 5,
   "metadata": {},
   "outputs": [
    {
     "data": {
      "text/plain": [
       "['Hello i am chiranjeev.', 'I miss my best friends alot(KMT)!', '!']"
      ]
     },
     "execution_count": 5,
     "metadata": {},
     "output_type": "execute_result"
    }
   ],
   "source": [
    "sent_tokenize(text)"
   ]
  },
  {
   "cell_type": "code",
   "execution_count": 6,
   "metadata": {},
   "outputs": [
    {
     "data": {
      "text/plain": [
       "['Hello',\n",
       " 'i',\n",
       " 'am',\n",
       " 'chiranjeev',\n",
       " '.',\n",
       " 'I',\n",
       " 'miss',\n",
       " 'my',\n",
       " 'best',\n",
       " 'friends',\n",
       " 'alot',\n",
       " '(',\n",
       " 'KMT',\n",
       " ')',\n",
       " '!',\n",
       " '!']"
      ]
     },
     "execution_count": 6,
     "metadata": {},
     "output_type": "execute_result"
    }
   ],
   "source": [
    "word_tokenize(text)"
   ]
  },
  {
   "cell_type": "code",
   "execution_count": 7,
   "metadata": {},
   "outputs": [
    {
     "name": "stdout",
     "output_type": "stream",
     "text": [
      "Hello\n",
      "i\n",
      "am\n",
      "chiranjeev\n",
      ".\n",
      "I\n",
      "miss\n",
      "my\n",
      "best\n",
      "friends\n",
      "alot\n",
      "(\n",
      "KMT\n",
      ")\n",
      "!\n",
      "!\n"
     ]
    }
   ],
   "source": [
    "for i in word_tokenize(text):\n",
    "    print(i)"
   ]
  },
  {
   "cell_type": "code",
   "execution_count": 8,
   "metadata": {},
   "outputs": [
    {
     "name": "stdout",
     "output_type": "stream",
     "text": [
      "Hello i am chiranjeev.\n",
      "I miss my best friends alot(KMT)!\n",
      "!\n"
     ]
    }
   ],
   "source": [
    "for i in sent_tokenize(text):\n",
    "    print(i)"
   ]
  },
  {
   "cell_type": "code",
   "execution_count": 9,
   "metadata": {},
   "outputs": [],
   "source": [
    "from nltk.corpus import stopwords"
   ]
  },
  {
   "cell_type": "code",
   "execution_count": 10,
   "metadata": {},
   "outputs": [
    {
     "name": "stderr",
     "output_type": "stream",
     "text": [
      "[nltk_data] Downloading package stopwords to\n",
      "[nltk_data]     /home/chiranjeev/nltk_data...\n",
      "[nltk_data]   Package stopwords is already up-to-date!\n"
     ]
    },
    {
     "data": {
      "text/plain": [
       "True"
      ]
     },
     "execution_count": 10,
     "metadata": {},
     "output_type": "execute_result"
    }
   ],
   "source": [
    "nltk.download(\"stopwords\")"
   ]
  },
  {
   "cell_type": "code",
   "execution_count": 11,
   "metadata": {},
   "outputs": [
    {
     "name": "stdout",
     "output_type": "stream",
     "text": [
      "{'being', 'from', 'm', 'had', 'y', 'them', 'her', 'then', 'needn', 'our', \"weren't\", 'that', 'before', \"don't\", 'am', 'such', 'can', \"that'll\", 'his', 'we', 'and', 'only', 'hers', 't', 'down', 'most', 'while', 'she', 'under', \"couldn't\", 'this', 'it', 'isn', 'how', 'now', \"hadn't\", 'won', 'between', 'at', 'once', 'weren', 'than', 'for', 'who', 'other', \"hasn't\", 'themselves', \"isn't\", 'because', 'he', 'your', 'or', 'its', 'will', 'there', \"aren't\", 'a', 'both', 'theirs', 'not', 'ma', 'to', 're', 'against', 'their', 'in', \"you'll\", 'hasn', 'haven', 'these', \"should've\", 'don', 'my', 'some', 'by', 'was', \"didn't\", 'but', 'with', 'about', 'during', 'been', 'all', 'll', 'you', 'yours', 'over', 'when', 'nor', 'hadn', 'shan', 'below', \"it's\", 'own', 'me', 'of', 'if', 'so', 'few', 'him', 'didn', 'up', 'yourself', 'ain', 'same', \"shan't\", 'above', 'very', 'ourselves', 'were', 'an', \"doesn't\", 'the', 'off', 'each', 'shouldn', 's', 'what', 'd', 'aren', \"needn't\", 'ours', 'too', \"wasn't\", 'further', 'into', 'just', \"she's\", 'on', 'o', 'couldn', 'herself', 'again', 'why', 'mustn', 've', 'have', 'itself', 'did', 'no', 'doesn', 'those', 'as', 'here', 'wasn', \"mustn't\", 'be', 'do', 'himself', 'wouldn', 'are', 'mightn', 'yourselves', 'has', \"shouldn't\", 'doing', 'which', \"wouldn't\", \"you're\", 'after', 'any', \"won't\", 'should', \"you'd\", 'they', \"mightn't\", \"haven't\", 'having', 'where', 'does', 'through', 'out', \"you've\", 'more', 'myself', 'whom', 'until', 'is', 'i'}\n"
     ]
    }
   ],
   "source": [
    "stop_words=set(stopwords.words(\"english\"))\n",
    "print(stop_words)"
   ]
  },
  {
   "cell_type": "code",
   "execution_count": 12,
   "metadata": {},
   "outputs": [
    {
     "data": {
      "text/plain": [
       "set"
      ]
     },
     "execution_count": 12,
     "metadata": {},
     "output_type": "execute_result"
    }
   ],
   "source": [
    "type(stop_words)"
   ]
  },
  {
   "cell_type": "code",
   "execution_count": 13,
   "metadata": {},
   "outputs": [
    {
     "name": "stdout",
     "output_type": "stream",
     "text": [
      "{'seine', 'haben', 'einiges', 'eine', 'ihn', 'weiter', 'eure', 'am', 'dieselben', 'war', 'zum', 'welche', 'etwas', 'unseren', 'ihrer', 'alle', 'keines', 'einige', 'seinen', 'kein', 'solche', 'mir', 'sonst', 'der', 'von', 'sich', 'allen', 'wollen', 'eines', 'keinem', 'ob', 'anderen', 'machen', 'meinem', 'bei', 'nur', 'daß', 'wollte', 'gewesen', 'würden', 'seines', 'ihren', 'ihnen', 'sie', 'waren', 'nun', 'durch', 'ich', 'aber', 'jeder', 'denselben', 'anderer', 'mit', 'da', 'einem', 'über', 'aus', 'dem', 'anderem', 'einer', 'wieder', 'welchen', 'unserem', 'es', 'will', 'diese', 'dasselbe', 'einiger', 'deinen', 'ins', 'des', 'in', 'werde', 'dieselbe', 'deiner', 'euren', 'sind', 'uns', 'anderm', 'jeden', 'einig', 'wenn', 'mancher', 'hat', 'musste', 'würde', 'ihres', 'nichts', 'welchem', 'oder', 'keiner', 'einen', 'manche', 'euch', 'manchem', 'jedem', 'solchen', 'was', 'sein', 'keine', 'solcher', 'auf', 'jenem', 'und', 'er', 'damit', 'hin', 'mein', 'derselben', 'sondern', 'aller', 'dort', 'eurer', 'welcher', 'als', 'die', 'desselben', 'jenes', 'sehr', 'gegen', 'wir', 'derer', 'manchen', 'ohne', 'jede', 'dieses', 'euer', 'jetzt', 'eurem', 'meines', 'nicht', 'diesen', 'viel', 'jene', 'im', 'den', 'einigem', 'meiner', 'so', 'wie', 'dieser', 'zu', 'allem', 'dies', 'ist', 'weg', 'mich', 'muss', 'demselben', 'unter', 'einmal', 'keinen', 'an', 'während', 'wirst', 'solches', 'deines', 'deine', 'vom', 'auch', 'zwar', 'zwischen', 'dazu', 'einigen', 'denn', 'also', 'dessen', 'solchem', 'weil', 'werden', 'ein', 'könnte', 'man', 'soll', 'können', 'andern', 'derselbe', 'seinem', 'jedes', 'ihrem', 'andere', 'meinen', 'wird', 'deinem', 'hatte', 'dich', 'zur', 'sollte', 'welches', 'jenen', 'anderes', 'hinter', 'dir', 'unsere', 'noch', 'hier', 'indem', 'unser', 'eures', 'bin', 'ander', 'doch', 'unseres', 'wo', 'dann', 'manches', 'dein', 'ihr', 'hatten', 'alles', 'bis', 'seiner', 'anders', 'hab', 'habe', 'um', 'warst', 'diesem', 'du', 'jener', 'ihm', 'ihre', 'kann', 'meine', 'selbst', 'bist', 'das', 'vor', 'für', 'nach', 'anderr'}\n"
     ]
    }
   ],
   "source": [
    "stop_words1=set(stopwords.words(\"german\"))\n",
    "print(stop_words1)"
   ]
  },
  {
   "cell_type": "code",
   "execution_count": 14,
   "metadata": {},
   "outputs": [],
   "source": [
    "ex_sent=\"this is an example showing off stop word filteration.\""
   ]
  },
  {
   "cell_type": "code",
   "execution_count": 15,
   "metadata": {},
   "outputs": [],
   "source": [
    "words=word_tokenize(ex_sent)"
   ]
  },
  {
   "cell_type": "code",
   "execution_count": 16,
   "metadata": {},
   "outputs": [],
   "source": [
    "filtered_sentence=[]"
   ]
  },
  {
   "cell_type": "code",
   "execution_count": 17,
   "metadata": {},
   "outputs": [
    {
     "name": "stdout",
     "output_type": "stream",
     "text": [
      "['example', 'showing', 'stop', 'word', 'filteration', '.']\n"
     ]
    }
   ],
   "source": [
    "for w in words:\n",
    "    if w not in stop_words:\n",
    "        filtered_sentence.append(w)\n",
    "        \n",
    "print(filtered_sentence)"
   ]
  },
  {
   "cell_type": "code",
   "execution_count": 18,
   "metadata": {},
   "outputs": [
    {
     "data": {
      "text/plain": [
       "['example', 'showing', 'stop', 'word', 'filteration', '.']"
      ]
     },
     "execution_count": 18,
     "metadata": {},
     "output_type": "execute_result"
    }
   ],
   "source": [
    "#list compression\n",
    "filtered_sentence1=[w for w in words if not w in stop_words]\n",
    "filtered_sentence1"
   ]
  },
  {
   "cell_type": "code",
   "execution_count": 19,
   "metadata": {},
   "outputs": [],
   "source": [
    "#STEMMING \n",
    "from nltk.stem import PorterStemmer"
   ]
  },
  {
   "cell_type": "code",
   "execution_count": 20,
   "metadata": {},
   "outputs": [],
   "source": [
    "ps=PorterStemmer()\n"
   ]
  },
  {
   "cell_type": "code",
   "execution_count": 21,
   "metadata": {},
   "outputs": [
    {
     "name": "stdout",
     "output_type": "stream",
     "text": [
      "python\n",
      "python\n",
      "python\n",
      "python\n",
      "pythonli\n"
     ]
    }
   ],
   "source": [
    "example_words=[\"python\",\"pythoner\",\"pythoned\",\"pythoning\",\"pythonly\"]\n",
    "for w in example_words:\n",
    "    print(ps.stem(w))\n"
   ]
  },
  {
   "cell_type": "code",
   "execution_count": 22,
   "metadata": {},
   "outputs": [
    {
     "name": "stdout",
     "output_type": "stream",
     "text": [
      "it\n",
      "is\n",
      "veri\n",
      "import\n",
      "to\n",
      "be\n",
      "pythonli\n",
      "while\n",
      "you\n",
      "are\n",
      "pyhon\n",
      "with\n",
      "pyhton\n",
      ".\n",
      "all\n",
      "pyhton\n",
      "have\n",
      "python\n",
      "greatli\n",
      "atleast\n",
      "onc\n",
      ".\n"
     ]
    }
   ],
   "source": [
    "new_text=\"it is very important to be pythonly while you are pyhoning with pyhton. All pyhtoners have pythoned greatly atleast once.\"\n",
    "words1=word_tokenize(new_text)\n",
    "\n",
    "for w in words1:\n",
    "    print(ps.stem(w))"
   ]
  },
  {
   "cell_type": "code",
   "execution_count": 23,
   "metadata": {},
   "outputs": [],
   "source": [
    "#PART OF SPEECH(POS)\n",
    "from nltk.corpus import state_union\n",
    "from nltk.tokenize import PunktSentenceTokenizer\n"
   ]
  },
  {
   "cell_type": "code",
   "execution_count": 24,
   "metadata": {},
   "outputs": [
    {
     "name": "stderr",
     "output_type": "stream",
     "text": [
      "[nltk_data] Downloading package state_union to\n",
      "[nltk_data]     /home/chiranjeev/nltk_data...\n",
      "[nltk_data]   Package state_union is already up-to-date!\n"
     ]
    },
    {
     "data": {
      "text/plain": [
       "True"
      ]
     },
     "execution_count": 24,
     "metadata": {},
     "output_type": "execute_result"
    }
   ],
   "source": [
    "nltk.download(\"state_union\")"
   ]
  },
  {
   "cell_type": "code",
   "execution_count": 25,
   "metadata": {},
   "outputs": [],
   "source": [
    "train_text=state_union.raw(\"2005-GWBush.txt\")"
   ]
  },
  {
   "cell_type": "code",
   "execution_count": 26,
   "metadata": {},
   "outputs": [
    {
     "data": {
      "text/plain": [
       "'PRESIDENT GEORGE W. BUSH\\'S ADDRESS BEFORE A JOINT SESSION OF THE CONGRESS ON THE STATE OF THE UNION\\n \\nFebruary 2, 2005\\n\\n\\n9:10 P.M. EST \\n\\nTHE PRESIDENT: Mr. Speaker, Vice President Cheney, members of Congress, fellow citizens: \\n\\nAs a new Congress gathers, all of us in the elected branches of government share a great privilege: We\\'ve been placed in office by the votes of the people we serve. And tonight that is a privilege we share with newly-elected leaders of Afghanistan, the Palestinian Territories, Ukraine, and a free and sovereign Iraq. (Applause.) \\n\\nTwo weeks ago, I stood on the steps of this Capitol and renewed the commitment of our nation to the guiding ideal of liberty for all. This evening I will set forth policies to advance that ideal at home and around the world. \\n\\nTonight, with a healthy, growing economy, with more Americans going back to work, with our nation an active force for good in the world -- the state of our union is confident and strong. (Applause.) \\n\\nOur generation has been blessed -- by the expansion of opportunity, by advances in medicine, by the security purchased by our parents\\' sacrifice. Now, as we see a little gray in the mirror -- or a lot of gray -- (laughter) -- and we watch our children moving into adulthood, we ask the question: What will be the state of their union? Members of Congress, the choices we make together will answer that question. Over the next several months, on issue after issue, let us do what Americans have always done, and build a better world for our children and our grandchildren. (Applause.) \\n\\nFirst, we must be good stewards of this economy, and renew the great institutions on which millions of our fellow citizens rely. America\\'s economy is the fastest growing of any major industrialized nation. In the past four years, we provided tax relief to every person who pays income taxes, overcome a recession, opened up new markets abroad, prosecuted corporate criminals, raised homeownership to its highest level in history, and in the last year alone, the United States has added 2.3 million new jobs. (Applause.) When action was needed, the Congress delivered -- and the nation is grateful. \\n\\nNow we must add to these achievements. By making our economy more flexible, more innovative, and more competitive, we will keep America the economic leader of the world. (Applause.) \\n\\nAmerica\\'s prosperity requires restraining the spending appetite of the federal government. I welcome the bipartisan enthusiasm for spending discipline. I will send you a budget that holds the growth of discretionary spending below inflation, makes tax relief permanent, and stays on track to cut the deficit in half by 2009. (Applause.) My budget substantially reduces or eliminates more than 150 government programs that are not getting results, or duplicate current efforts, or do not fulfill essential priorities. The principle here is clear: Taxpayer dollars must be spent wisely, or not at all. (Applause.) \\n\\nTo make our economy stronger and more dynamic, we must prepare a rising generation to fill the jobs of the 21st century. Under the No Child Left Behind Act, standards are higher, test scores are on the rise, and we\\'re closing the achievement gap for minority students. Now we must demand better results from our high schools, so every high school diploma is a ticket to success. We will help an additional 200,000 workers to get training for a better career, by reforming our job training system and strengthening America\\'s community colleges. And we\\'ll make it easier for Americans to afford a college education, by increasing the size of Pell Grants. (Applause.) \\n\\nTo make our economy stronger and more competitive, America must reward, not punish, the efforts and dreams of entrepreneurs. Small business is the path of advancement, especially for women and minorities, so we must free small businesses from needless regulation and protect honest job-creators from junk lawsuits. (Applause.) Justice is distorted, and our economy is held back by irresponsible class-actions and frivolous asbestos claims -- and I urge Congress to pass legal reforms this year. (Applause.) \\n\\nTo make our economy stronger and more productive, we must make health care more affordable, and give families greater access to good coverage -- (applause) -- and more control over their health decisions. (Applause.) I ask Congress to move forward on a comprehensive health care agenda with tax credits to help low-income workers buy insurance, a community health center in every poor country, improved information technology to prevent medical error and needless costs, association health plans for small businesses and their employees -- (applause) -- expanded health savings accounts -- (applause) -- and medical liability reform that will reduce health care costs and make sure patients have the doctors and care they need. (Applause.) \\n\\nTo keep our economy growing, we also need reliable supplies of affordable, environmentally responsible energy. (Applause.) Nearly four years ago, I submitted a comprehensive energy strategy that encourages conservation, alternative sources, a modernized electricity grid, and more production here at home -- including safe, clean nuclear energy. (Applause.) My Clear Skies legislation will cut power plant pollution and improve the health of our citizens. (Applause.) And my budget provides strong funding for leading-edge technology -- from hydrogen-fueled cars, to clean coal, to renewable sources such as ethanol. (Applause.) Four years of debate is enough: I urge Congress to pass legislation that makes America more secure and less dependent on foreign energy. (Applause.) \\n\\nAll these proposals are essential to expand this economy and add new jobs -- but they are just the beginning of our duty. To build the prosperity of future generations, we must update institutions that were created to meet the needs of an earlier time. Year after year, Americans are burdened by an archaic, incoherent federal tax code. I\\'ve appointed a bipartisan panel to examine the tax code from top to bottom. And when their recommendations are delivered, you and I will work together to give this nation a tax code that is pro-growth, easy to understand, and fair to all. (Applause.) \\n\\nAmerica\\'s immigration system is also outdated -- unsuited to the needs of our economy and to the values of our country. We should not be content with laws that punish hardworking people who want only to provide for their families, and deny businesses willing workers, and invite chaos at our border. It is time for an immigration policy that permits temporary guest workers to fill jobs Americans will not take, that rejects amnesty, that tells us who is entering and leaving our country, and that closes the border to drug dealers and terrorists. (Applause.) \\n\\nOne of America\\'s most important institutions -- a symbol of the trust between generations -- is also in need of wise and effective reform. Social Security was a great moral success of the 20th century, and we must honor its great purposes in this new century. (Applause.) The system, however, on its current path, is headed toward bankruptcy. And so we must join together to strengthen and save Social Security. (Applause.) \\n\\nToday, more than 45 million Americans receive Social Security benefits, and millions more are nearing retirement -- and for them the system is sound and fiscally strong. I have a message for every American who is 55 or older: Do not let anyone mislead you; for you, the Social Security system will not change in any way. (Applause.) For younger workers, the Social Security system has serious problems that will grow worse with time. Social Security was created decades ago, for a very different era. In those days, people did not live as long. Benefits were much lower than they are today. And a half-century ago, about sixteen workers paid into the system for each person drawing benefits. \\n\\nOur society has changed in ways the founders of Social Security could not have foreseen. In today\\'s world, people are living longer and, therefore, drawing benefits longer. And those benefits are scheduled to rise dramatically over the next few decades. And instead of sixteen workers paying in for every beneficiary, right now it\\'s only about three workers. And over the next few decades that number will fall to just two workers per beneficiary. With each passing year, fewer workers are paying ever-higher benefits to an ever-larger number of retirees. \\n\\nSo here is the result: Thirteen years from now, in 2018, Social Security will be paying out more than it takes in. And every year afterward will bring a new shortfall, bigger than the year before. For example, in the year 2027, the government will somehow have to come up with an extra $200 billion to keep the system afloat -- and by 2033, the annual shortfall would be more than $300 billion. By the year 2042, the entire system would be exhausted and bankrupt. If steps are not taken to avert that outcome, the only solutions would be dramatically higher taxes, massive new borrowing, or sudden and severe cuts in Social Security benefits or other government programs. \\n\\nI recognize that 2018 and 2042 may seem a long way off. But those dates are not so distant, as any parent will tell you. If you have a five-year-old, you\\'re already concerned about how you\\'ll pay for college tuition 13 years down the road. If you\\'ve got children in their 20s, as some of us do, the idea of Social Security collapsing before they retire does not seem like a small matter. And it should not be a small matter to the United States Congress. (Applause.) You and I share a responsibility. We must pass reforms that solve the financial problems of Social Security once and for all. \\n\\nFixing Social Security permanently will require an open, candid review of the options. Some have suggested limiting benefits for wealthy retirees. Former Congressman Tim Penny has raised the possibility of indexing benefits to prices rather than wages. During the 1990s, my predecessor, President Clinton, spoke of increasing the retirement age. Former Senator John Breaux suggested discouraging early collection of Social Security benefits. The late Senator Daniel Patrick Moynihan recommended changing the way benefits are calculated. All these ideas are on the table. \\n\\nI know that none of these reforms would be easy. But we have to move ahead with courage and honesty, because our children\\'s retirement security is more important than partisan politics. (Applause.) I will work with members of Congress to find the most effective combination of reforms. I will listen to anyone who has a good idea to offer. (Applause.) We must, however, be guided by some basic principles. We must make Social Security permanently sound, not leave that task for another day. We must not jeopardize our economic strength by increasing payroll taxes. We must ensure that lower-income Americans get the help they need to have dignity and peace of mind in their retirement. We must guarantee there is no change for those now retired or nearing retirement. And we must take care that any changes in the system are gradual, so younger workers have years to prepare and plan for their future. \\n\\nAs we fix Social Security, we also have the responsibility to make the system a better deal for younger workers. And the best way to reach that goal is through voluntary personal retirement accounts. (Applause.) Here is how the idea works. Right now, a set portion of the money you earn is taken out of your paycheck to pay for the Social Security benefits of today\\'s retirees. If you\\'re a younger worker, I believe you should be able to set aside part of that money in your own retirement account, so you can build a nest egg for your own future. \\n\\nHere\\'s why the personal accounts are a better deal. Your money will grow, over time, at a greater rate than anything the current system can deliver -- and your account will provide money for retirement over and above the check you will receive from Social Security. In addition, you\\'ll be able to pass along the money that accumulates in your personal account, if you wish, to your children and -- or grandchildren. And best of all, the money in the account is yours, and the government can never take it away. (Applause.) \\n\\nThe goal here is greater security in retirement, so we will set careful guidelines for personal accounts. We\\'ll make sure the money can only go into a conservative mix of bonds and stock funds. We\\'ll make sure that your earnings are not eaten up by hidden Wall Street fees. We\\'ll make sure there are good options to protect your investments from sudden market swings on the eve of your retirement. We\\'ll make sure a personal account cannot be emptied out all at once, but rather paid out over time, as an addition to traditional Social Security benefits. And we\\'ll make sure this plan is fiscally responsible, by starting personal retirement accounts gradually, and raising the yearly limits on contributions over time, eventually permitting all workers to set aside four percentage points of their payroll taxes in their accounts. \\n\\nPersonal retirement accounts should be familiar to federal employees, because you already have something similar, called the Thrift Savings Plan, which lets workers deposit a portion of their paychecks into any of five different broadly-based investment funds. It\\'s time to extend the same security, and choice, and ownership to young Americans. (Applause.) \\n\\nOur second great responsibility to our children and grandchildren is to honor and to pass along the values that sustain a free society. So many of my generation, after a long journey, have come home to family and faith, and are determined to bring up responsible, moral children. Government is not the source of these values, but government should never undermine them. \\n\\nBecause marriage is a sacred institution and the foundation of society, it should not be re-defined by activist judges. For the good of families, children, and society, I support a constitutional amendment to protect the institution of marriage. (Applause.) \\n\\nBecause a society is measured by how it treats the weak and vulnerable, we must strive to build a culture of life. Medical research can help us reach that goal, by developing treatments and cures that save lives and help people overcome disabilities -- and I thank the Congress for doubling the funding of the National Institutes of Health. (Applause.) To build a culture of life, we must also ensure that scientific advances always serve human dignity, not take advantage of some lives for the benefit of others. We should all be able to agree -- (applause) -- we should all be able to agree on some clear standards. I will work with Congress to ensure that human embryos are not created for experimentation or grown for body parts, and that human life is never bought and sold as a commodity. (Applause.) America will continue to lead the world in medical research that is ambitious, aggressive, and always ethical. \\n\\nBecause courts must always deliver impartial justice, judges have a duty to faithfully interpret the law, not legislate from the bench. (Applause.) As President, I have a constitutional responsibility to nominate men and women who understand the role of courts in our democracy, and are well-qualified to serve on the bench -- and I have done so. (Applause.) The Constitution also gives the Senate a responsibility: Every judicial nominee deserves an up or down vote. (Applause.) \\n\\nBecause one of the deepest values of our country is compassion, we must never turn away from any citizen who feels isolated from the opportunities of America. Our government will continue to support faith-based and community groups that bring hope to harsh places. Now we need to focus on giving young people, especially young men in our cities, better options than apathy, or gangs, or jail. Tonight I propose a three-year initiative to help organizations keep young people out of gangs, and show young men an ideal of manhood that respects women and rejects violence. (Applause.) Taking on gang life will be one part of a broader outreach to at-risk youth, which involves parents and pastors, coaches and community leaders, in programs ranging from literacy to sports. And I am proud that the leader of this nationwide effort will be our First Lady, Laura Bush. (Applause.) \\n\\nBecause HIV/AIDS brings suffering and fear into so many lives, I ask you to reauthorize the Ryan White Act to encourage prevention, and provide care and treatment to the victims of that disease. (Applause.) And as we update this important law, we must focus our efforts on fellow citizens with the highest rates of new cases, African American men and women. (Applause.) \\n\\nBecause one of the main sources of our national unity is our belief in equal justice, we need to make sure Americans of all races and backgrounds have confidence in the system that provides justice. In America we must make doubly sure no person is held to account for a crime he or she did not commit -- so we are dramatically expanding the use of DNA evidence to prevent wrongful conviction. (Applause.) Soon I will send to Congress a proposal to fund special training for defense counsel in capital cases, because people on trial for their lives must have competent lawyers by their side. (Applause.) \\n\\nOur third responsibility to future generations is to leave them an America that is safe from danger, and protected by peace. We will pass along to our children all the freedoms we enjoy -- and chief among them is freedom from fear. \\n\\nIn the three and a half years since September the 11th, 2001, we have taken unprecedented actions to protect Americans. We\\'ve created a new department of government to defend our homeland, focused the FBI on preventing terrorism, begun to reform our intelligence agencies, broken up terror cells across the country, expanded research on defenses against biological and chemical attack, improved border security, and trained more than a half-million first responders. Police and firefighters, air marshals, researchers, and so many others are working every day to make our homeland safer, and we thank them all. (Applause.) \\n\\nOur nation, working with allies and friends, has also confronted the enemy abroad, with measures that are determined, successful, and continuing. The al Qaeda terror network that attacked our country still has leaders -- but many of its top commanders have been removed. There are still governments that sponsor and harbor terrorists -- but their number has declined. There are still regimes seeking weapons of mass destruction -- but no longer without attention and without consequence. Our country is still the target of terrorists who want to kill many, and intimidate us all -- and we will stay on the offensive against them, until the fight is won. (Applause.) \\n\\nPursuing our enemies is a vital commitment of the war on terror -- and I thank the Congress for providing our servicemen and women with the resources they have needed. During this time of war, we must continue to support our military and give them the tools for victory. (Applause.) \\n\\nOther nations around the globe have stood with us. In Afghanistan, an international force is helping provide security. In Iraq, 28 countries have troops on the ground, the United Nations and the European Union provided technical assistance for the elections, and NATO is leading a mission to help train Iraqi officers. We\\'re cooperating with 60 governments in the Proliferation Security Initiative, to detect and stop the transit of dangerous materials. We\\'re working closely with the governments in Asia to convince North Korea to abandon its nuclear ambitions. Pakistan, Saudi Arabia, and nine other countries have captured or detained al Qaeda terrorists. In the next four years, my administration will continue to build the coalitions that will defeat the dangers of our time. (Applause.) \\n\\nIn the long-term, the peace we seek will only be achieved by eliminating the conditions that feed radicalism and ideologies of murder. If whole regions of the world remain in despair and grow in hatred, they will be the recruiting grounds for terror, and that terror will stalk America and other free nations for decades. The only force powerful enough to stop the rise of tyranny and terror, and replace hatred with hope, is the force of human freedom. (Applause.) Our enemies know this, and that is why the terrorist Zarqawi recently declared war on what he called the \"evil principle\" of democracy. And we\\'ve declared our own intention: America will stand with the allies of freedom to support democratic movements in the Middle East and beyond, with the ultimate goal of ending tyranny in our world. (Applause.) \\n\\nThe United States has no right, no desire, and no intention to impose our form of government on anyone else. That is one of the main differences between us and our enemies. They seek to impose and expand an empire of oppression, in which a tiny group of brutal, self-appointed rulers control every aspect of every life. Our aim is to build and preserve a community of free and independent nations, with governments that answer to their citizens, and reflect their own cultures. And because democracies respect their own people and their neighbors, the advance of freedom will lead to peace. (Applause.) \\n\\nThat advance has great momentum in our time -- shown by women voting in Afghanistan, and Palestinians choosing a new direction, and the people of Ukraine asserting their democratic rights and electing a president. We are witnessing landmark events in the history of liberty. And in the coming years, we will add to that story. (Applause.) \\n\\nThe beginnings of reform and democracy in the Palestinian territories are now showing the power of freedom to break old patterns of violence and failure. Tomorrow morning, Secretary of State Rice departs on a trip that will take her to Israel and the West Bank for meetings with Prime Minister Sharon and President Abbas. She will discuss with them how we and our friends can help the Palestinian people end terror and build the institutions of a peaceful, independent, democratic state. To promote this democracy, I will ask Congress for $350 million to support Palestinian political, economic, and security reforms. The goal of two democratic states, Israel and Palestine, living side by side in peace, is within reach -- and America will help them achieve that goal. (Applause.) \\n\\nTo promote peace and stability in the broader Middle East, the United States will work with our friends in the region to fight the common threat of terror, while we encourage a higher standard of freedom. Hopeful reform is already taking hold in an arc from Morocco to Jordan to Bahrain. The government of Saudi Arabia can demonstrate its leadership in the region by expanding the role of its people in determining their future. And the great and proud nation of Egypt, which showed the way toward peace in the Middle East, can now show the way toward democracy in the Middle East. (Applause.) \\n\\nTo promote peace in the broader Middle East, we must confront regimes that continue to harbor terrorists and pursue weapons of mass murder. Syria still allows its territory, and parts of Lebanon, to be used by terrorists who seek to destroy every chance of peace in the region. You have passed, and we are applying, the Syrian Accountability Act -- and we expect the Syrian government to end all support for terror and open the door to freedom. (Applause.) Today, Iran remains the world\\'s primary state sponsor of terror -- pursuing nuclear weapons while depriving its people of the freedom they seek and deserve. We are working with European allies to make clear to the Iranian regime that it must give up its uranium enrichment program and any plutonium reprocessing, and end its support for terror. And to the Iranian people, I say tonight: As you stand for your own liberty, America stands with you. (Applause.) \\n\\nOur generational commitment to the advance of freedom, especially in the Middle East, is now being tested and honored in Iraq. That country is a vital front in the war on terror, which is why the terrorists have chosen to make a stand there. Our men and women in uniform are fighting terrorists in Iraq, so we do not have to face them here at home. (Applause.) And the victory of freedom in Iraq will strengthen a new ally in the war on terror, inspire democratic reformers from Damascus to Tehran, bring more hope and progress to a troubled region, and thereby lift a terrible threat from the lives of our children and grandchildren. \\n\\nWe will succeed because the Iraqi people value their own liberty -- as they showed the world last Sunday. (Applause.) Across Iraq, often at great risk, millions of citizens went to the polls and elected 275 men and women to represent them in a new Transitional National Assembly. A young woman in Baghdad told of waking to the sound of mortar fire on election day, and wondering if it might be too dangerous to vote. She said, \"Hearing those explosions, it occurred to me -- the insurgents are weak, they are afraid of democracy, they are losing. So I got my husband, and I got my parents, and we all came out and voted together.\" \\n\\nAmericans recognize that spirit of liberty, because we share it. In any nation, casting your vote is an act of civic responsibility; for millions of Iraqis, it was also an act of personal courage, and they have earned the respect of us all. (Applause.) \\n\\nOne of Iraq\\'s leading democracy and human rights advocates is Safia Taleb al-Suhail. She says of her country, \"We were occupied for 35 years by Saddam Hussein. That was the real occupation. Thank you to the American people who paid the cost, but most of all, to the soldiers.\" Eleven years ago, Safia\\'s father was assassinated by Saddam\\'s intelligence service. Three days ago in Baghdad, Safia was finally able to vote for the leaders of her country -- and we are honored that she is with us tonight. (Applause.) \\n\\nThe terrorists and insurgents are violently opposed to democracy, and will continue to attack it. Yet, the terrorists\\' most powerful myth is being destroyed. The whole world is seeing that the car bombers and assassins are not only fighting coalition forces, they are trying to destroy the hopes of Iraqis, expressed in free elections. And the whole world now knows that a small group of extremists will not overturn the will of the Iraqi people. (Applause.) \\n\\nWe will succeed in Iraq because Iraqis are determined to fight for their own freedom, and to write their own history. As Prime Minister Allawi said in his speech to Congress last September, \"Ordinary Iraqis are anxious to shoulder all the security burdens of our country as quickly as possible.\" That is the natural desire of an independent nation, and it is also the stated mission of our coalition in Iraq. The new political situation in Iraq opens a new phase of our work in that country. \\n\\nAt the recommendation of our commanders on the ground, and in consultation with the Iraqi government, we will increasingly focus our efforts on helping prepare more capable Iraqi security forces -- forces with skilled officers and an effective command structure. As those forces become more self-reliant and take on greater security responsibilities, America and its coalition partners will increasingly be in a supporting role. In the end, Iraqis must be able to defend their own country -- and we will help that proud, new nation secure its liberty. \\n\\nRecently an Iraqi interpreter said to a reporter, \"Tell America not to abandon us.\" He and all Iraqis can be certain: While our military strategy is adapting to circumstances, our commitment remains firm and unchanging. We are standing for the freedom of our Iraqi friends, and freedom in Iraq will make America safer for generations to come. (Applause.) We will not set an artificial timetable for leaving Iraq, because that would embolden the terrorists and make them believe they can wait us out. We are in Iraq to achieve a result: A country that is democratic, representative of all its people, at peace with its neighbors, and able to defend itself. And when that result is achieved, our men and women serving in Iraq will return home with the honor they have earned. (Applause.) \\n\\nRight now, Americans in uniform are serving at posts across the world, often taking great risks on my orders. We have given them training and equipment; and they have given us an example of idealism and character that makes every American proud. (Applause.) The volunteers of our military are unrelenting in battle, unwavering in loyalty, unmatched in honor and decency, and every day they\\'re making our nation more secure. Some of our servicemen and women have survived terrible injuries, and this grateful country will do everything we can to help them recover. (Applause.) And we have said farewell to some very good men and women, who died for our freedom, and whose memory this nation will honor forever. \\n\\nOne name we honor is Marine Corps Sergeant Byron Norwood of Pflugerville, Texas, who was killed during the assault on Fallujah. His mom, Janet, sent me a letter and told me how much Byron loved being a Marine, and how proud he was to be on the front line against terror. She wrote, \"When Byron was home the last time, I said that I wanted to protect him like I had since he was born. He just hugged me and said, \\'You\\'ve done your job, Mom. Now it is my turn to protect you.\\'\" Ladies and gentlemen, with grateful hearts, we honor freedom\\'s defenders, and our military families, represented here this evening by Sergeant Norwood\\'s mom and dad, Janet and Bill Norwood. (Applause.) \\n\\nIn these four years, Americans have seen the unfolding of large events. We have known times of sorrow, and hours of uncertainty, and days of victory. In all this history, even when we have disagreed, we have seen threads of purpose that unite us. The attack on freedom in our world has reaffirmed our confidence in freedom\\'s power to change the world. We are all part of a great venture: To extend the promise of freedom in our country, to renew the values that sustain our liberty, and to spread the peace that freedom brings. \\n\\nAs Franklin Roosevelt once reminded Americans, \"Each age is a dream that is dying, or one that is coming to birth.\" And we live in the country where the biggest dreams are born. The abolition of slavery was only a dream -- until it was fulfilled. The liberation of Europe from fascism was only a dream -- until it was achieved. The fall of imperial communism was only a dream -- until, one day, it was accomplished. Our generation has dreams of its own, and we also go forward with confidence. The road of Providence is uneven and unpredictable -- yet we know where it leads: It leads to freedom. \\n\\nThank you, and may God bless America. (Applause.) \\n\\nEND 10:03 P.M. EST \\n'"
      ]
     },
     "execution_count": 26,
     "metadata": {},
     "output_type": "execute_result"
    }
   ],
   "source": [
    "train_text"
   ]
  },
  {
   "cell_type": "code",
   "execution_count": 27,
   "metadata": {},
   "outputs": [
    {
     "data": {
      "text/plain": [
       "'PRESIDENT GEORGE W. BUSH\\'S ADDRESS BEFORE A JOINT SESSION OF THE CONGRESS ON THE STATE OF THE UNION\\n \\nJanuary 31, 2006\\n\\nTHE PRESIDENT: Thank you all. Mr. Speaker, Vice President Cheney, members of Congress, members of the Supreme Court and diplomatic corps, distinguished guests, and fellow citizens: Today our nation lost a beloved, graceful, courageous woman who called America to its founding ideals and carried on a noble dream. Tonight we are comforted by the hope of a glad reunion with the husband who was taken so long ago, and we are grateful for the good life of Coretta Scott King. (Applause.)\\n\\nPresident George W. Bush reacts to applause during his State of the Union Address at the Capitol, Tuesday, Jan. 31, 2006. White House photo by Eric DraperEvery time I\\'m invited to this rostrum, I\\'m humbled by the privilege, and mindful of the history we\\'ve seen together. We have gathered under this Capitol dome in moments of national mourning and national achievement. We have served America through one of the most consequential periods of our history -- and it has been my honor to serve with you.\\n\\nIn a system of two parties, two chambers, and two elected branches, there will always be differences and debate. But even tough debates can be conducted in a civil tone, and our differences cannot be allowed to harden into anger. To confront the great issues before us, we must act in a spirit of goodwill and respect for one another -- and I will do my part. Tonight the state of our Union is strong -- and together we will make it stronger. (Applause.)\\n\\nIn this decisive year, you and I will make choices that determine both the future and the character of our country. We will choose to act confidently in pursuing the enemies of freedom -- or retreat from our duties in the hope of an easier life. We will choose to build our prosperity by leading the world economy -- or shut ourselves off from trade and opportunity. In a complex and challenging time, the road of isolationism and protectionism may seem broad and inviting -- yet it ends in danger and decline. The only way to protect our people, the only way to secure the peace, the only way to control our destiny is by our leadership -- so the United States of America will continue to lead. (Applause.)\\n\\nAbroad, our nation is committed to an historic, long-term goal -- we seek the end of tyranny in our world. Some dismiss that goal as misguided idealism. In reality, the future security of America depends on it. On September the 11th, 2001, we found that problems originating in a failed and oppressive state 7,000 miles away could bring murder and destruction to our country. Dictatorships shelter terrorists, and feed resentment and radicalism, and seek weapons of mass destruction. Democracies replace resentment with hope, respect the rights of their citizens and their neighbors, and join the fight against terror. Every step toward freedom in the world makes our country safer -- so we will act boldly in freedom\\'s cause. (Applause.)\\n\\nFar from being a hopeless dream, the advance of freedom is the great story of our time. In 1945, there were about two dozen lonely democracies in the world. Today, there are 122. And we\\'re writing a new chapter in the story of self-government -- with women lining up to vote in Afghanistan, and millions of Iraqis marking their liberty with purple ink, and men and women from Lebanon to Egypt debating the rights of individuals and the necessity of freedom. At the start of 2006, more than half the people of our world live in democratic nations. And we do not forget the other half -- in places like Syria and Burma, Zimbabwe, North Korea, and Iran -- because the demands of justice, and the peace of this world, require their freedom, as well. (Applause.)\\n\\nPresident George W. Bush delivers his State of the Union Address at the Capitol, Tuesday, Jan. 31, 2006. White House photo by Eric Draper No one can deny the success of freedom, but some men rage and fight against it. And one of the main sources of reaction and opposition is radical Islam -- the perversion by a few of a noble faith into an ideology of terror and death. Terrorists like bin Laden are serious about mass murder -- and all of us must take their declared intentions seriously. They seek to impose a heartless system of totalitarian control throughout the Middle East, and arm themselves with weapons of mass murder.\\n\\nTheir aim is to seize power in Iraq, and use it as a safe haven to launch attacks against America and the world. Lacking the military strength to challenge us directly, the terrorists have chosen the weapon of fear. When they murder children at a school in Beslan, or blow up commuters in London, or behead a bound captive, the terrorists hope these horrors will break our will, allowing the violent to inherit the Earth. But they have miscalculated: We love our freedom, and we will fight to keep it. (Applause.)\\n\\nIn a time of testing, we cannot find security by abandoning our commitments and retreating within our borders. If we were to leave these vicious attackers alone, they would not leave us alone. They would simply move the battlefield to our own shores. There is no peace in retreat. And there is no honor in retreat. By allowing radical Islam to work its will -- by leaving an assaulted world to fend for itself -- we would signal to all that we no longer believe in our own ideals, or even in our own courage. But our enemies and our friends can be certain: The United States will not retreat from the world, and we will never surrender to evil. (Applause.)\\n\\nAmerica rejects the false comfort of isolationism. We are the nation that saved liberty in Europe, and liberated death camps, and helped raise up democracies, and faced down an evil empire. Once again, we accept the call of history to deliver the oppressed and move this world toward peace. We remain on the offensive against terror networks. We have killed or captured many of their leaders -- and for the others, their day will come.\\n\\nPresident George W. Bush greets members of Congress after his State of the Union Address at the Capitol, Tuesday, Jan. 31, 2006. White House photo by Eric Draper We remain on the offensive in Afghanistan, where a fine President and a National Assembly are fighting terror while building the institutions of a new democracy. We\\'re on the offensive in Iraq, with a clear plan for victory. First, we\\'re helping Iraqis build an inclusive government, so that old resentments will be eased and the insurgency will be marginalized.\\n\\nSecond, we\\'re continuing reconstruction efforts, and helping the Iraqi government to fight corruption and build a modern economy, so all Iraqis can experience the benefits of freedom. And, third, we\\'re striking terrorist targets while we train Iraqi forces that are increasingly capable of defeating the enemy. Iraqis are showing their courage every day, and we are proud to be their allies in the cause of freedom. (Applause.)\\n\\nOur work in Iraq is difficult because our enemy is brutal. But that brutality has not stopped the dramatic progress of a new democracy. In less than three years, the nation has gone from dictatorship to liberation, to sovereignty, to a constitution, to national elections. At the same time, our coalition has been relentless in shutting off terrorist infiltration, clearing out insurgent strongholds, and turning over territory to Iraqi security forces. I am confident in our plan for victory; I am confident in the will of the Iraqi people; I am confident in the skill and spirit of our military. Fellow citizens, we are in this fight to win, and we are winning. (Applause.)\\n\\nThe road of victory is the road that will take our troops home. As we make progress on the ground, and Iraqi forces increasingly take the lead, we should be able to further decrease our troop levels -- but those decisions will be made by our military commanders, not by politicians in Washington, D.C. (Applause.)\\n\\nOur coalition has learned from our experience in Iraq. We\\'ve adjusted our military tactics and changed our approach to reconstruction. Along the way, we have benefitted from responsible criticism and counsel offered by members of Congress of both parties. In the coming year, I will continue to reach out and seek your good advice. Yet, there is a difference between responsible criticism that aims for success, and defeatism that refuses to acknowledge anything but failure. (Applause.) Hindsight alone is not wisdom, and second-guessing is not a strategy. (Applause.)\\n\\nWith so much in the balance, those of us in public office have a duty to speak with candor. A sudden withdrawal of our forces from Iraq would abandon our Iraqi allies to death and prison, would put men like bin Laden and Zarqawi in charge of a strategic country, and show that a pledge from America means little. Members of Congress, however we feel about the decisions and debates of the past, our nation has only one option: We must keep our word, defeat our enemies, and stand behind the American military in this vital mission. (Applause.)\\n\\nLaura Bush is applauded as she is introduced Tuesday evening, Jan. 31, 2006 during the State of the Union Address at United States Capitol in Washington. White House photo by Eric Draper Our men and women in uniform are making sacrifices -- and showing a sense of duty stronger than all fear. They know what it\\'s like to fight house to house in a maze of streets, to wear heavy gear in the desert heat, to see a comrade killed by a roadside bomb. And those who know the costs also know the stakes. Marine Staff Sergeant Dan Clay was killed last month fighting in Fallujah. He left behind a letter to his family, but his words could just as well be addressed to every American. Here is what Dan wrote: \"I know what honor is. ... It has been an honor to protect and serve all of you. I faced death with the secure knowledge that you would not have to.... Never falter! Don\\'t hesitate to honor and support those of us who have the honor of protecting that which is worth protecting.\"\\n\\nStaff Sergeant Dan Clay\\'s wife, Lisa, and his mom and dad, Sara Jo and Bud, are with us this evening. Welcome. (Applause.)\\n\\nOur nation is grateful to the fallen, who live in the memory of our country. We\\'re grateful to all who volunteer to wear our nation\\'s uniform -- and as we honor our brave troops, let us never forget the sacrifices of America\\'s military families. (Applause.)\\n\\nOur offensive against terror involves more than military action. Ultimately, the only way to defeat the terrorists is to defeat their dark vision of hatred and fear by offering the hopeful alternative of political freedom and peaceful change. So the United States of America supports democratic reform across the broader Middle East. Elections are vital, but they are only the beginning. Raising up a democracy requires the rule of law, and protection of minorities, and strong, accountable institutions that last longer than a single vote.\\n\\nThe great people of Egypt have voted in a multi-party presidential election -- and now their government should open paths of peaceful opposition that will reduce the appeal of radicalism. The Palestinian people have voted in elections. And now the leaders of Hamas must recognize Israel, disarm, reject terrorism, and work for lasting peace. (Applause.) Saudi Arabia has taken the first steps of reform -- now it can offer its people a better future by pressing forward with those efforts. Democracies in the Middle East will not look like our own, because they will reflect the traditions of their own citizens. Yet liberty is the future of every nation in the Middle East, because liberty is the right and hope of all humanity. (Applause.)\\n\\nPresident George W. Bush waves toward the upper visitors gallery of the House Chamber following his State of the Union remarks Tuesday, Jan. 31, 2006 at the United States Capitol. White House photo by Eric Draper The same is true of Iran, a nation now held hostage by a small clerical elite that is isolating and repressing its people. The regime in that country sponsors terrorists in the Palestinian territories and in Lebanon -- and that must come to an end. (Applause.) The Iranian government is defying the world with its nuclear ambitions, and the nations of the world must not permit the Iranian regime to gain nuclear weapons. (Applause.) America will continue to rally the world to confront these threats.\\n\\nTonight, let me speak directly to the citizens of Iran: America respects you, and we respect your country. We respect your right to choose your own future and win your own freedom. And our nation hopes one day to be the closest of friends with a free and democratic Iran. (Applause.)\\n\\nTo overcome dangers in our world, we must also take the offensive by encouraging economic progress, and fighting disease, and spreading hope in hopeless lands. Isolationism would not only tie our hands in fighting enemies, it would keep us from helping our friends in desperate need. We show compassion abroad because Americans believe in the God-given dignity and worth of a villager with HIV/AIDS, or an infant with malaria, or a refugee fleeing genocide, or a young girl sold into slavery. We also show compassion abroad because regions overwhelmed by poverty, corruption, and despair are sources of terrorism, and organized crime, and human trafficking, and the drug trade.\\n\\nIn recent years, you and I have taken unprecedented action to fight AIDS and malaria, expand the education of girls, and reward developing nations that are moving forward with economic and political reform. For people everywhere, the United States is a partner for a better life. Short-changing these efforts would increase the suffering and chaos of our world, undercut our long-term security, and dull the conscience of our country. I urge members of Congress to serve the interests of America by showing the compassion of America.\\n\\nOur country must also remain on the offensive against terrorism here at home. The enemy has not lost the desire or capability to attack us. Fortunately, this nation has superb professionals in law enforcement, intelligence, the military, and homeland security. These men and women are dedicating their lives, protecting us all, and they deserve our support and our thanks. (Applause.) They also deserve the same tools they already use to fight drug trafficking and organized crime -- so I ask you to reauthorize the Patriot Act. (Applause.)\\n\\nIt is said that prior to the attacks of September the 11th, our government failed to connect the dots of the conspiracy. We now know that two of the hijackers in the United States placed telephone calls to al Qaeda operatives overseas. But we did not know about their plans until it was too late. So to prevent another attack -- based on authority given to me by the Constitution and by statute -- I have authorized a terrorist surveillance program to aggressively pursue the international communications of suspected al Qaeda operatives and affiliates to and from America. Previous Presidents have used the same constitutional authority I have, and federal courts have approved the use of that authority. Appropriate members of Congress have been kept informed. The terrorist surveillance program has helped prevent terrorist attacks. It remains essential to the security of America. If there are people inside our country who are talking with al Qaeda, we want to know about it, because we will not sit back and wait to be hit again. (Applause.)\\n\\nIn all these areas -- from the disruption of terror networks, to victory in Iraq, to the spread of freedom and hope in troubled regions -- we need the support of our friends and allies. To draw that support, we must always be clear in our principles and willing to act. The only alternative to American leadership is a dramatically more dangerous and anxious world. Yet we also choose to lead because it is a privilege to serve the values that gave us birth. American leaders -- from Roosevelt to Truman to Kennedy to Reagan -- rejected isolation and retreat, because they knew that America is always more secure when freedom is on the march.\\n\\nOur own generation is in a long war against a determined enemy -- a war that will be fought by Presidents of both parties, who will need steady bipartisan support from the Congress. And tonight I ask for yours. Together, let us protect our country, support the men and women who defend us, and lead this world toward freedom. (Applause.)\\n\\nHere at home, America also has a great opportunity: We will build the prosperity of our country by strengthening our economic leadership in the world.\\n\\nOur economy is healthy and vigorous, and growing faster than other major industrialized nations. In the last two-and-a-half years, America has created 4.6 million new jobs -- more than Japan and the European Union combined. (Applause.) Even in the face of higher energy prices and natural disasters, the American people have turned in an economic performance that is the envy of the world.\\n\\nThe American economy is preeminent, but we cannot afford to be complacent. In a dynamic world economy, we are seeing new competitors, like China and India, and this creates uncertainty, which makes it easier to feed people\\'s fears. So we\\'re seeing some old temptations return. Protectionists want to escape competition, pretending that we can keep our high standard of living while walling off our economy. Others say that the government needs to take a larger role in directing the economy, centralizing more power in Washington and increasing taxes. We hear claims that immigrants are somehow bad for the economy -- even though this economy could not function without them. (Applause.) All these are forms of economic retreat, and they lead in the same direction -- toward a stagnant and second-rate economy.\\n\\nTonight I will set out a better path: an agenda for a nation that competes with confidence; an agenda that will raise standards of living and generate new jobs. Americans should not fear our economic future, because we intend to shape it.\\n\\nKeeping America competitive begins with keeping our economy growing. And our economy grows when Americans have more of their own money to spend, save, and invest. In the last five years, the tax relief you passed has left $880 billion in the hands of American workers, investors, small businesses, and families -- and they have used it to help produce more than four years of uninterrupted economic growth. (Applause.) Yet the tax relief is set to expire in the next few years. If we do nothing, American families will face a massive tax increase they do not expect and will not welcome. Because America needs more than a temporary expansion, we need more than temporary tax relief. I urge the Congress to act responsibly, and make the tax cuts permanent. (Applause.)\\n\\nKeeping America competitive requires us to be good stewards of tax dollars. Every year of my presidency, we\\'ve reduced the growth of non-security discretionary spending, and last year you passed bills that cut this spending. This year my budget will cut it again, and reduce or eliminate more than 140 programs that are performing poorly or not fulfilling essential priorities. By passing these reforms, we will save the American taxpayer another $14 billion next year, and stay on track to cut the deficit in half by 2009. (Applause.)\\n\\nI am pleased that members of Congress are working on earmark reform, because the federal budget has too many special interest projects. (Applause.) And we can tackle this problem together, if you pass the line-item veto. (Applause.)\\n\\nWe must also confront the larger challenge of mandatory spending, or entitlements. This year, the first of about 78 million baby boomers turn 60, including two of my Dad\\'s favorite people -- me and President Clinton. (Laughter.) This milestone is more than a personal crisis -- (laughter) -- it is a national challenge. The retirement of the baby boom generation will put unprecedented strains on the federal government. By 2030, spending for Social Security, Medicare and Medicaid alone will be almost 60 percent of the entire federal budget. And that will present future Congresses with impossible choices -- staggering tax increases, immense deficits, or deep cuts in every category of spending. Congress did not act last year on my proposal to save Social Security -- (applause) -- yet the rising cost of entitlements is a problem that is not going away. (Applause.) And every year we fail to act, the situation gets worse.\\n\\nSo tonight, I ask you to join me in creating a commission to examine the full impact of baby boom retirements on Social Security, Medicare, and Medicaid. This commission should include members of Congress of both parties, and offer bipartisan solutions. We need to put aside partisan politics and work together and get this problem solved. (Applause.)\\n\\nKeeping America competitive requires us to open more markets for all that Americans make and grow. One out of every five factory jobs in America is related to global trade, and we want people everywhere to buy American. With open markets and a level playing field, no one can out-produce or out-compete the American worker. (Applause.)\\n\\nKeeping America competitive requires an immigration system that upholds our laws, reflects our values, and serves the interests of our economy. Our nation needs orderly and secure borders. (Applause.) To meet this goal, we must have stronger immigration enforcement and border protection. (Applause.) And we must have a rational, humane guest worker program that rejects amnesty, allows temporary jobs for people who seek them legally, and reduces smuggling and crime at the border. (Applause.)\\n\\nKeeping America competitive requires affordable health care. (Applause.) Our government has a responsibility to provide health care for the poor and the elderly, and we are meeting that responsibility. (Applause.) For all Americans -- for all Americans, we must confront the rising cost of care, strengthen the doctor-patient relationship, and help people afford the insurance coverage they need. (Applause.)\\n\\nWe will make wider use of electronic records and other health information technology, to help control costs and reduce dangerous medical errors. We will strengthen health savings accounts -- making sure individuals and small business employees can buy insurance with the same advantages that people working for big businesses now get. (Applause.) We will do more to make this coverage portable, so workers can switch jobs without having to worry about losing their health insurance. (Applause.) And because lawsuits are driving many good doctors out of practice -- leaving women in nearly 1,500 American counties without a single OB/GYN -- I ask the Congress to pass medical liability reform this year. (Applause.)\\n\\nKeeping America competitive requires affordable energy. And here we have a serious problem: America is addicted to oil, which is often imported from unstable parts of the world. The best way to break this addiction is through technology. Since 2001, we have spent nearly $10 billion to develop cleaner, cheaper, and more reliable alternative energy sources -- and we are on the threshold of incredible advances.\\n\\nSo tonight, I announce the Advanced Energy Initiative -- a 22-percent increase in clean-energy research -- at the Department of Energy, to push for breakthroughs in two vital areas. To change how we power our homes and offices, we will invest more in zero-emission coal-fired plants, revolutionary solar and wind technologies, and clean, safe nuclear energy. (Applause.)\\n\\nWe must also change how we power our automobiles. We will increase our research in better batteries for hybrid and electric cars, and in pollution-free cars that run on hydrogen. We\\'ll also fund additional research in cutting-edge methods of producing ethanol, not just from corn, but from wood chips and stalks, or switch grass. Our goal is to make this new kind of ethanol practical and competitive within six years. (Applause.)\\n\\nBreakthroughs on this and other new technologies will help us reach another great goal: to replace more than 75 percent of our oil imports from the Middle East by 2025. (Applause.) By applying the talent and technology of America, this country can dramatically improve our environment, move beyond a petroleum-based economy, and make our dependence on Middle Eastern oil a thing of the past. (Applause.)\\n\\nAnd to keep America competitive, one commitment is necessary above all: We must continue to lead the world in human talent and creativity. Our greatest advantage in the world has always been our educated, hardworking, ambitious people -- and we\\'re going to keep that edge. Tonight I announce an American Competitiveness Initiative, to encourage innovation throughout our economy, and to give our nation\\'s children a firm grounding in math and science. (Applause.)\\n\\nFirst, I propose to double the federal commitment to the most critical basic research programs in the physical sciences over the next 10 years. This funding will support the work of America\\'s most creative minds as they explore promising areas such as nanotechnology, supercomputing, and alternative energy sources.\\n\\nSecond, I propose to make permanent the research and development tax credit -- (applause) -- to encourage bolder private-sector initiatives in technology. With more research in both the public and private sectors, we will improve our quality of life -- and ensure that America will lead the world in opportunity and innovation for decades to come. (Applause.)\\n\\nThird, we need to encourage children to take more math and science, and to make sure those courses are rigorous enough to compete with other nations. We\\'ve made a good start in the early grades with the No Child Left Behind Act, which is raising standards and lifting test scores across our country. Tonight I propose to train 70,000 high school teachers to lead advanced-placement courses in math and science, bring 30,000 math and science professionals to teach in classrooms, and give early help to students who struggle with math, so they have a better chance at good, high-wage jobs. If we ensure that America\\'s children succeed in life, they will ensure that America succeeds in the world. (Applause.)\\n\\nPreparing our nation to compete in the world is a goal that all of us can share. I urge you to support the American Competitiveness Initiative, and together we will show the world what the American people can achieve.\\n\\nAmerica is a great force for freedom and prosperity. Yet our greatness is not measured in power or luxuries, but by who we are and how we treat one another. So we strive to be a compassionate, decent, hopeful society.\\n\\nIn recent years, America has become a more hopeful nation. Violent crime rates have fallen to their lowest levels since the 1970s. Welfare cases have dropped by more than half over the past decade. Drug use among youth is down 19 percent since 2001. There are fewer abortions in America than at any point in the last three decades, and the number of children born to teenage mothers has been falling for a dozen years in a row. (Applause.)\\n\\nThese gains are evidence of a quiet transformation -- a revolution of conscience, in which a rising generation is finding that a life of personal responsibility is a life of fulfillment. Government has played a role. Wise policies, such as welfare reform and drug education and support for abstinence and adoption have made a difference in the character of our country. And everyone here tonight, Democrat and Republican, has a right to be proud of this record. (Applause.)\\n\\nYet many Americans, especially parents, still have deep concerns about the direction of our culture, and the health of our most basic institutions. They\\'re concerned about unethical conduct by public officials, and discouraged by activist courts that try to redefine marriage. They worry about children in our society who need direction and love, and about fellow citizens still displaced by natural disaster, and about suffering caused by treatable diseases.\\n\\nAs we look at these challenges, we must never give in to the belief that America is in decline, or that our culture is doomed to unravel. The American people know better than that. We have proven the pessimists wrong before -- and we will do it again. (Applause.)\\n\\nA hopeful society depends on courts that deliver equal justice under the law. The Supreme Court now has two superb new members -- new members on its bench: Chief Justice John Roberts and Justice Sam Alito. (Applause.) I thank the Senate for confirming both of them. I will continue to nominate men and women who understand that judges must be servants of the law, and not legislate from the bench. (Applause.)\\n\\nToday marks the official retirement of a very special American. For 24 years of faithful service to our nation, the United States is grateful to Justice Sandra Day O\\'Connor. (Applause.)\\n\\nA hopeful society has institutions of science and medicine that do not cut ethical corners, and that recognize the matchless value of every life. Tonight I ask you to pass legislation to prohibit the most egregious abuses of medical research: human cloning in all its forms, creating or implanting embryos for experiments, creating human-animal hybrids, and buying, selling, or patenting human embryos. Human life is a gift from our Creator -- and that gift should never be discarded, devalued or put up for sale. (Applause.)\\n\\nA hopeful society expects elected officials to uphold the public trust. (Applause.) Honorable people in both parties are working on reforms to strengthen the ethical standards of Washington -- I support your efforts. Each of us has made a pledge to be worthy of public responsibility -- and that is a pledge we must never forget, never dismiss, and never betray. (Applause.)\\n\\nAs we renew the promise of our institutions, let us also show the character of America in our compassion and care for one another.\\n\\nA hopeful society gives special attention to children who lack direction and love. Through the Helping America\\'s Youth Initiative, we are encouraging caring adults to get involved in the life of a child -- and this good work is being led by our First Lady, Laura Bush. (Applause.) This year we will add resources to encourage young people to stay in school, so more of America\\'s youth can raise their sights and achieve their dreams.\\n\\nA hopeful society comes to the aid of fellow citizens in times of suffering and emergency -- and stays at it until they\\'re back on their feet. So far the federal government has committed $85 billion to the people of the Gulf Coast and New Orleans. We\\'re removing debris and repairing highways and rebuilding stronger levees. We\\'re providing business loans and housing assistance. Yet as we meet these immediate needs, we must also address deeper challenges that existed before the storm arrived.\\n\\nIn New Orleans and in other places, many of our fellow citizens have felt excluded from the promise of our country. The answer is not only temporary relief, but schools that teach every child, and job skills that bring upward mobility, and more opportunities to own a home and start a business. As we recover from a disaster, let us also work for the day when all Americans are protected by justice, equal in hope, and rich in opportunity. (Applause.)\\n\\nA hopeful society acts boldly to fight diseases like HIV/AIDS, which can be prevented, and treated, and defeated. More than a million Americans live with HIV, and half of all AIDS cases occur among African Americans. I ask Congress to reform and reauthorize the Ryan White Act, and provide new funding to states, so we end the waiting lists for AIDS medicines in America. (Applause.) We will also lead a nationwide effort, working closely with African American churches and faith-based groups, to deliver rapid HIV tests to millions, end the stigma of AIDS, and come closer to the day when there are no new infections in America. (Applause.)\\n\\nFellow citizens, we\\'ve been called to leadership in a period of consequence. We\\'ve entered a great ideological conflict we did nothing to invite. We see great changes in science and commerce that will influence all our lives. Sometimes it can seem that history is turning in a wide arc, toward an unknown shore. Yet the destination of history is determined by human action, and every great movement of history comes to a point of choosing.\\n\\nLincoln could have accepted peace at the cost of disunity and continued slavery. Martin Luther King could have stopped at Birmingham or at Selma, and achieved only half a victory over segregation. The United States could have accepted the permanent division of Europe, and been complicit in the oppression of others. Today, having come far in our own historical journey, we must decide: Will we turn back, or finish well?\\n\\nBefore history is written down in books, it is written in courage. Like Americans before us, we will show that courage and we will finish well. We will lead freedom\\'s advance. We will compete and excel in the global economy. We will renew the defining moral commitments of this land. And so we move forward -- optimistic about our country, faithful to its cause, and confident of the victories to come.\\n\\nMay God bless America. (Applause.)\\n'"
      ]
     },
     "execution_count": 27,
     "metadata": {},
     "output_type": "execute_result"
    }
   ],
   "source": [
    "sample_text=state_union.raw(\"2006-GWBush.txt\")\n",
    "sample_text"
   ]
  },
  {
   "cell_type": "code",
   "execution_count": 28,
   "metadata": {},
   "outputs": [],
   "source": [
    "custom_sent_tokenizer=PunktSentenceTokenizer(train_text)"
   ]
  },
  {
   "cell_type": "code",
   "execution_count": 29,
   "metadata": {},
   "outputs": [],
   "source": [
    "tokenized=custom_sent_tokenizer.tokenize(sample_text)"
   ]
  },
  {
   "cell_type": "code",
   "execution_count": 30,
   "metadata": {},
   "outputs": [],
   "source": [
    "def process_content():\n",
    "    try:\n",
    "        for i in tokenized[:1]:\n",
    "            words=nltk.word_tokenize(i)\n",
    "            tagged=nltk.pos_tag(words)\n",
    "         \n",
    "            print(tagged)\n",
    "            #CHUNKING\n",
    "            #chunkgram = r\"\"\"Chunk: {<RB.?>*<VB.?>*<NNP>+<NN>?}\"\"\"\n",
    "            #CHINKING  TO REMOVE CHUNKS\n",
    "            chunkgram=r\"\"\"Chunk: {<.*>+}\n",
    "                                  }<VB.?|IN|DT|TO>+{\"\"\"\n",
    "            \n",
    "            chunkParser=nltk.RegexpParser(chunkgram)\n",
    "            chunked=chunkParser.parse(tagged)\n",
    "            \n",
    "            print(chunked)\n",
    "            #chunked.draw()  #used to draw the daigramatic reprsentation of chunked \n",
    "            \n",
    "    except Exception as e:\n",
    "        print(str(e))\n",
    "        \n",
    "\n"
   ]
  },
  {
   "cell_type": "code",
   "execution_count": 31,
   "metadata": {},
   "outputs": [
    {
     "name": "stdout",
     "output_type": "stream",
     "text": [
      "[('PRESIDENT', 'NNP'), ('GEORGE', 'NNP'), ('W.', 'NNP'), ('BUSH', 'NNP'), (\"'S\", 'POS'), ('ADDRESS', 'NNP'), ('BEFORE', 'IN'), ('A', 'NNP'), ('JOINT', 'NNP'), ('SESSION', 'NNP'), ('OF', 'IN'), ('THE', 'NNP'), ('CONGRESS', 'NNP'), ('ON', 'NNP'), ('THE', 'NNP'), ('STATE', 'NNP'), ('OF', 'IN'), ('THE', 'NNP'), ('UNION', 'NNP'), ('January', 'NNP'), ('31', 'CD'), (',', ','), ('2006', 'CD'), ('THE', 'NNP'), ('PRESIDENT', 'NNP'), (':', ':'), ('Thank', 'NNP'), ('you', 'PRP'), ('all', 'DT'), ('.', '.')]\n",
      "(S\n",
      "  (Chunk PRESIDENT/NNP GEORGE/NNP W./NNP BUSH/NNP 'S/POS ADDRESS/NNP)\n",
      "  BEFORE/IN\n",
      "  (Chunk A/NNP JOINT/NNP SESSION/NNP)\n",
      "  OF/IN\n",
      "  (Chunk THE/NNP CONGRESS/NNP ON/NNP THE/NNP STATE/NNP)\n",
      "  OF/IN\n",
      "  (Chunk\n",
      "    THE/NNP\n",
      "    UNION/NNP\n",
      "    January/NNP\n",
      "    31/CD\n",
      "    ,/,\n",
      "    2006/CD\n",
      "    THE/NNP\n",
      "    PRESIDENT/NNP\n",
      "    :/:\n",
      "    Thank/NNP\n",
      "    you/PRP)\n",
      "  all/DT\n",
      "  (Chunk ./.))\n"
     ]
    }
   ],
   "source": [
    "process_content()"
   ]
  },
  {
   "cell_type": "code",
   "execution_count": 32,
   "metadata": {},
   "outputs": [],
   "source": [
    "def process_content():\n",
    "    try:\n",
    "        for i in tokenized[:1]:\n",
    "            words=nltk.word_tokenize(i)\n",
    "            tagged=nltk.pos_tag(words)\n",
    "            #NAMEDENTITIY RECOGINITION\n",
    "            namedEnt=nltk.ne_chunk(tagged, binary=True)\n",
    "            #print(namedEnt)\n",
    "            \n",
    "            namedEnt.draw()\n",
    "    except Exception as e:\n",
    "        print(str(e))\n",
    "        \n",
    "\n"
   ]
  },
  {
   "cell_type": "code",
   "execution_count": 33,
   "metadata": {},
   "outputs": [],
   "source": [
    "process_content()"
   ]
  },
  {
   "cell_type": "code",
   "execution_count": 34,
   "metadata": {},
   "outputs": [
    {
     "name": "stdout",
     "output_type": "stream",
     "text": [
      "good\n",
      "run\n"
     ]
    }
   ],
   "source": [
    "#LEMMATIZER\n",
    "from nltk.stem import WordNetLemmatizer\n",
    "lemmatizer=WordNetLemmatizer()\n",
    "print(lemmatizer.lemmatize(\"better\",pos=\"a\"))\n",
    "print(lemmatizer.lemmatize(\"running\",pos='v'))"
   ]
  },
  {
   "cell_type": "code",
   "execution_count": 35,
   "metadata": {},
   "outputs": [
    {
     "data": {
      "text/plain": [
       "'/usr/local/lib/python3.5/dist-packages/nltk/__init__.py'"
      ]
     },
     "execution_count": 35,
     "metadata": {},
     "output_type": "execute_result"
    }
   ],
   "source": [
    "nltk.__file__"
   ]
  },
  {
   "cell_type": "code",
   "execution_count": 36,
   "metadata": {},
   "outputs": [
    {
     "name": "stdout",
     "output_type": "stream",
     "text": [
      "['1:5 And God called the light Day, and the darkness he called Night.', 'And the evening and the morning were the first day.', '1:6 And God said, Let there be a firmament in the midst of the waters,\\nand let it divide the waters from the waters.', '1:7 And God made the firmament, and divided the waters which were\\nunder the firmament from the waters which were above the firmament:\\nand it was so.', '1:8 And God called the firmament Heaven.', 'And the evening and the\\nmorning were the second day.', '1:9 And God said, Let the waters under the heaven be gathered together\\nunto one place, and let the dry land appear: and it was so.', '1:10 And God called the dry land Earth; and the gathering together of\\nthe waters called he Seas: and God saw that it was good.', '1:11 And God said, Let the earth bring forth grass, the herb yielding\\nseed, and the fruit tree yielding fruit after his kind, whose seed is\\nin itself, upon the earth: and it was so.', '1:12 And the earth brought forth grass, and herb yielding seed after\\nhis kind, and the tree yielding fruit, whose seed was in itself, after\\nhis kind: and God saw that it was good.']\n"
     ]
    }
   ],
   "source": [
    "from nltk.corpus import gutenberg\n",
    "sample=gutenberg.raw(\"bible-kjv.txt\")\n",
    "tok=sent_tokenize(sample)\n",
    "print(tok[5:15])"
   ]
  },
  {
   "cell_type": "code",
   "execution_count": 37,
   "metadata": {},
   "outputs": [
    {
     "name": "stdout",
     "output_type": "stream",
     "text": [
      "<bound method Synset.name of Synset('plan.n.01')>\n",
      "plan\n",
      "a series of steps to be carried out or goals to be accomplished\n",
      "['they drew up a six-step plan', 'they discussed plans for a new bond issue']\n"
     ]
    }
   ],
   "source": [
    "from nltk.corpus import wordnet\n",
    "syns=wordnet.synsets(\"program\")\n",
    "#synset\n",
    "print(syns[0].name)\n",
    "#just word\n",
    "print(syns[0].lemmas()[0].name())\n",
    "#definitions\n",
    "print(syns[0].definition())\n",
    "#examples\n",
    "print(syns[0].examples())"
   ]
  },
  {
   "cell_type": "code",
   "execution_count": 38,
   "metadata": {},
   "outputs": [
    {
     "name": "stdout",
     "output_type": "stream",
     "text": [
      "l: Lemma('good.n.01.good')\n",
      "l: Lemma('good.n.02.good')\n",
      "l: Lemma('good.n.02.goodness')\n",
      "l: Lemma('good.n.03.good')\n",
      "l: Lemma('good.n.03.goodness')\n",
      "l: Lemma('commodity.n.01.commodity')\n",
      "l: Lemma('commodity.n.01.trade_good')\n",
      "l: Lemma('commodity.n.01.good')\n",
      "l: Lemma('good.a.01.good')\n",
      "l: Lemma('full.s.06.full')\n",
      "l: Lemma('full.s.06.good')\n",
      "l: Lemma('good.a.03.good')\n",
      "l: Lemma('estimable.s.02.estimable')\n",
      "l: Lemma('estimable.s.02.good')\n",
      "l: Lemma('estimable.s.02.honorable')\n",
      "l: Lemma('estimable.s.02.respectable')\n",
      "l: Lemma('beneficial.s.01.beneficial')\n",
      "l: Lemma('beneficial.s.01.good')\n",
      "l: Lemma('good.s.06.good')\n",
      "l: Lemma('good.s.07.good')\n",
      "l: Lemma('good.s.07.just')\n",
      "l: Lemma('good.s.07.upright')\n",
      "l: Lemma('adept.s.01.adept')\n",
      "l: Lemma('adept.s.01.expert')\n",
      "l: Lemma('adept.s.01.good')\n",
      "l: Lemma('adept.s.01.practiced')\n",
      "l: Lemma('adept.s.01.proficient')\n",
      "l: Lemma('adept.s.01.skillful')\n",
      "l: Lemma('adept.s.01.skilful')\n",
      "l: Lemma('good.s.09.good')\n",
      "l: Lemma('dear.s.02.dear')\n",
      "l: Lemma('dear.s.02.good')\n",
      "l: Lemma('dear.s.02.near')\n",
      "l: Lemma('dependable.s.04.dependable')\n",
      "l: Lemma('dependable.s.04.good')\n",
      "l: Lemma('dependable.s.04.safe')\n",
      "l: Lemma('dependable.s.04.secure')\n",
      "l: Lemma('good.s.12.good')\n",
      "l: Lemma('good.s.12.right')\n",
      "l: Lemma('good.s.12.ripe')\n",
      "l: Lemma('good.s.13.good')\n",
      "l: Lemma('good.s.13.well')\n",
      "l: Lemma('effective.s.04.effective')\n",
      "l: Lemma('effective.s.04.good')\n",
      "l: Lemma('effective.s.04.in_effect')\n",
      "l: Lemma('effective.s.04.in_force')\n",
      "l: Lemma('good.s.15.good')\n",
      "l: Lemma('good.s.16.good')\n",
      "l: Lemma('good.s.16.serious')\n",
      "l: Lemma('good.s.17.good')\n",
      "l: Lemma('good.s.17.sound')\n",
      "l: Lemma('good.s.18.good')\n",
      "l: Lemma('good.s.18.salutary')\n",
      "l: Lemma('good.s.19.good')\n",
      "l: Lemma('good.s.19.honest')\n",
      "l: Lemma('good.s.20.good')\n",
      "l: Lemma('good.s.20.undecomposed')\n",
      "l: Lemma('good.s.20.unspoiled')\n",
      "l: Lemma('good.s.20.unspoilt')\n",
      "l: Lemma('good.s.21.good')\n",
      "l: Lemma('well.r.01.well')\n",
      "l: Lemma('well.r.01.good')\n",
      "l: Lemma('thoroughly.r.02.thoroughly')\n",
      "l: Lemma('thoroughly.r.02.soundly')\n",
      "l: Lemma('thoroughly.r.02.good')\n",
      "{'well', 'right', 'salutary', 'ripe', 'beneficial', 'honorable', 'unspoiled', 'expert', 'commodity', 'skillful', 'unspoilt', 'estimable', 'goodness', 'good', 'respectable', 'dear', 'adept', 'in_effect', 'practiced', 'serious', 'dependable', 'honest', 'skilful', 'safe', 'thoroughly', 'near', 'upright', 'effective', 'undecomposed', 'secure', 'soundly', 'trade_good', 'full', 'proficient', 'in_force', 'sound', 'just'}\n",
      "{'bad', 'ill', 'evil', 'badness', 'evilness'}\n"
     ]
    }
   ],
   "source": [
    "synonyms=[]\n",
    "antonyms=[]\n",
    "\n",
    "for syn in wordnet.synsets(\"good\"):\n",
    "    for l in syn.lemmas():\n",
    "        print(\"l:\",l)\n",
    "        synonyms.append(l.name())\n",
    "        if l.antonyms():\n",
    "            antonyms.append(l.antonyms()[0].name())\n",
    "\n",
    "print(set(synonyms))\n",
    "print(set(antonyms))"
   ]
  },
  {
   "cell_type": "code",
   "execution_count": 39,
   "metadata": {},
   "outputs": [
    {
     "name": "stdout",
     "output_type": "stream",
     "text": [
      "0.9090909090909091\n",
      "0.6956521739130435\n",
      "0.32\n"
     ]
    }
   ],
   "source": [
    "w1=wordnet.synset(\"ship.n.01\")\n",
    "w2=wordnet.synset(\"boat.n.01\")\n",
    "print(w1.wup_similarity(w2))\n",
    "\n",
    "w1=wordnet.synset(\"ship.n.01\")\n",
    "w2=wordnet.synset(\"car.n.01\")\n",
    "print(w1.wup_similarity(w2))\n",
    "\n",
    "w1=wordnet.synset(\"ship.n.01\")\n",
    "w2=wordnet.synset(\"cat.n.01\")\n",
    "print(w1.wup_similarity(w2))\n",
    "\n"
   ]
  },
  {
   "cell_type": "code",
   "execution_count": 40,
   "metadata": {},
   "outputs": [],
   "source": [
    "#SENTIMENTAL ANALYSIS OF MOvIE REVIEW\n",
    "import random\n",
    "from nltk.corpus import movie_reviews\n",
    "\n",
    "documents=[(list(movie_reviews.words(fileid)),category)\n",
    "          for category in movie_reviews.categories()\n",
    "          for fileid in movie_reviews.fileids(category)]\n",
    "random.shuffle(documents)"
   ]
  },
  {
   "cell_type": "code",
   "execution_count": 41,
   "metadata": {},
   "outputs": [
    {
     "data": {
      "text/plain": [
       "'\\n#another way\\ndocuments1=[]\\nfor category in movie_reviews.categories():\\n    for fileid in movie_reviews.fileids(category):\\n        documents1.append((list(movie_reviews.words(fileid)),category))\\n\\n'"
      ]
     },
     "execution_count": 41,
     "metadata": {},
     "output_type": "execute_result"
    }
   ],
   "source": [
    "\"\"\"\n",
    "#another way\n",
    "documents1=[]\n",
    "for category in movie_reviews.categories():\n",
    "    for fileid in movie_reviews.fileids(category):\n",
    "        documents1.append((list(movie_reviews.words(fileid)),category))\n",
    "\n",
    "\"\"\""
   ]
  },
  {
   "cell_type": "code",
   "execution_count": 42,
   "metadata": {},
   "outputs": [
    {
     "data": {
      "text/plain": [
       "(['as',\n",
       "  'much',\n",
       "  'as',\n",
       "  'i',\n",
       "  'wanted',\n",
       "  'to',\n",
       "  'like',\n",
       "  'this',\n",
       "  'film',\n",
       "  'as',\n",
       "  'i',\n",
       "  'went',\n",
       "  'into',\n",
       "  'it',\n",
       "  ',',\n",
       "  'the',\n",
       "  'more',\n",
       "  'pleased',\n",
       "  'i',\n",
       "  'was',\n",
       "  'when',\n",
       "  'i',\n",
       "  'left',\n",
       "  '.',\n",
       "  'first',\n",
       "  ',',\n",
       "  'getting',\n",
       "  'through',\n",
       "  'all',\n",
       "  'the',\n",
       "  'usual',\n",
       "  'lines',\n",
       "  'of',\n",
       "  'newspaper',\n",
       "  'glitz',\n",
       "  ':',\n",
       "  '\"',\n",
       "  'if',\n",
       "  'you',\n",
       "  'liked',\n",
       "  'scream',\n",
       "  ',',\n",
       "  'you',\n",
       "  \"'\",\n",
       "  'll',\n",
       "  'love',\n",
       "  'wild',\n",
       "  'things',\n",
       "  '!',\n",
       "  '\"',\n",
       "  '\"',\n",
       "  'campbell',\n",
       "  'gives',\n",
       "  'a',\n",
       "  'stunning',\n",
       "  'performance',\n",
       "  '!',\n",
       "  '\"',\n",
       "  '\"',\n",
       "  'this',\n",
       "  'twisty',\n",
       "  'plot',\n",
       "  'will',\n",
       "  'have',\n",
       "  'you',\n",
       "  'dazzled',\n",
       "  'for',\n",
       "  'days',\n",
       "  '!',\n",
       "  '\"',\n",
       "  '(',\n",
       "  'oh',\n",
       "  'yeah',\n",
       "  ',',\n",
       "  'the',\n",
       "  'day',\n",
       "  'a',\n",
       "  'newspaper',\n",
       "  'uses',\n",
       "  'these',\n",
       "  'is',\n",
       "  'the',\n",
       "  'day',\n",
       "  'neve',\n",
       "  'campbell',\n",
       "  'falls',\n",
       "  'in',\n",
       "  'love',\n",
       "  'with',\n",
       "  'me',\n",
       "  ')',\n",
       "  'now',\n",
       "  ',',\n",
       "  'onto',\n",
       "  'more',\n",
       "  'serious',\n",
       "  'stuff',\n",
       "  '(',\n",
       "  'and',\n",
       "  'with',\n",
       "  'this',\n",
       "  'film',\n",
       "  ',',\n",
       "  'i',\n",
       "  'mean',\n",
       "  'that',\n",
       "  'in',\n",
       "  'nearly',\n",
       "  'a',\n",
       "  'sarcastic',\n",
       "  'way',\n",
       "  ')',\n",
       "  '.',\n",
       "  'wild',\n",
       "  'things',\n",
       "  'has',\n",
       "  'single',\n",
       "  '-',\n",
       "  'handedly',\n",
       "  'broken',\n",
       "  'down',\n",
       "  'the',\n",
       "  'rules',\n",
       "  'surrounding',\n",
       "  'the',\n",
       "  'r',\n",
       "  'rating',\n",
       "  'from',\n",
       "  'the',\n",
       "  'mpaa',\n",
       "  '.',\n",
       "  'i',\n",
       "  \"'\",\n",
       "  'm',\n",
       "  'not',\n",
       "  'saying',\n",
       "  'that',\n",
       "  'in',\n",
       "  'a',\n",
       "  'bad',\n",
       "  'way',\n",
       "  ',',\n",
       "  'but',\n",
       "  'when',\n",
       "  'you',\n",
       "  'see',\n",
       "  'this',\n",
       "  'film',\n",
       "  ',',\n",
       "  'you',\n",
       "  'may',\n",
       "  'be',\n",
       "  'shocked',\n",
       "  'by',\n",
       "  'what',\n",
       "  'you',\n",
       "  'see',\n",
       "  '.',\n",
       "  'however',\n",
       "  ',',\n",
       "  'perhaps',\n",
       "  'the',\n",
       "  'mpaa',\n",
       "  'was',\n",
       "  'pleased',\n",
       "  'by',\n",
       "  'the',\n",
       "  'film',\n",
       "  \"'\",\n",
       "  's',\n",
       "  'charming',\n",
       "  'cast',\n",
       "  'and',\n",
       "  'tricky',\n",
       "  'plot',\n",
       "  ',',\n",
       "  'that',\n",
       "  'they',\n",
       "  'let',\n",
       "  'the',\n",
       "  'film',\n",
       "  'slide',\n",
       "  'with',\n",
       "  'an',\n",
       "  'r',\n",
       "  'rating',\n",
       "  '.',\n",
       "  'being',\n",
       "  'mormon',\n",
       "  ',',\n",
       "  'i',\n",
       "  \"'\",\n",
       "  'm',\n",
       "  'bound',\n",
       "  'to',\n",
       "  'hear',\n",
       "  'an',\n",
       "  'uproar',\n",
       "  'from',\n",
       "  'religious',\n",
       "  'zealots',\n",
       "  'warning',\n",
       "  'me',\n",
       "  'not',\n",
       "  'to',\n",
       "  'see',\n",
       "  'the',\n",
       "  'film',\n",
       "  '.',\n",
       "  'trouble',\n",
       "  'is',\n",
       "  ',',\n",
       "  'i',\n",
       "  'have',\n",
       "  'already',\n",
       "  'seen',\n",
       "  'it',\n",
       "  '.',\n",
       "  'and',\n",
       "  'i',\n",
       "  'like',\n",
       "  'it',\n",
       "  '!',\n",
       "  'wild',\n",
       "  'things',\n",
       "  'is',\n",
       "  'a',\n",
       "  'film',\n",
       "  'noir',\n",
       "  'of',\n",
       "  'the',\n",
       "  '90s',\n",
       "  ',',\n",
       "  'filled',\n",
       "  'with',\n",
       "  '40s',\n",
       "  'sensibilities',\n",
       "  ',',\n",
       "  'and',\n",
       "  'yet',\n",
       "  'breaking',\n",
       "  'the',\n",
       "  'rules',\n",
       "  'and',\n",
       "  'modern',\n",
       "  '-',\n",
       "  'day',\n",
       "  'taboos',\n",
       "  'of',\n",
       "  '90s',\n",
       "  'culture',\n",
       "  '.',\n",
       "  'the',\n",
       "  'style',\n",
       "  'in',\n",
       "  'which',\n",
       "  'it',\n",
       "  'is',\n",
       "  'filmed',\n",
       "  'is',\n",
       "  'rich',\n",
       "  'in',\n",
       "  'color',\n",
       "  '.',\n",
       "  'the',\n",
       "  'actors',\n",
       "  'are',\n",
       "  'all',\n",
       "  'gorgeous',\n",
       "  'people',\n",
       "  ',',\n",
       "  'seemingly',\n",
       "  'drawn',\n",
       "  'from',\n",
       "  'the',\n",
       "  'same',\n",
       "  'gene',\n",
       "  'pool',\n",
       "  'and',\n",
       "  'placed',\n",
       "  'into',\n",
       "  'this',\n",
       "  'film',\n",
       "  '.',\n",
       "  'sure',\n",
       "  ',',\n",
       "  'it',\n",
       "  \"'\",\n",
       "  's',\n",
       "  'all',\n",
       "  'too',\n",
       "  'good',\n",
       "  'to',\n",
       "  'be',\n",
       "  'true',\n",
       "  ',',\n",
       "  'but',\n",
       "  'ain',\n",
       "  \"'\",\n",
       "  't',\n",
       "  'it',\n",
       "  'fun',\n",
       "  'to',\n",
       "  'watch',\n",
       "  '?',\n",
       "  'when',\n",
       "  'movies',\n",
       "  'like',\n",
       "  'this',\n",
       "  'come',\n",
       "  'along',\n",
       "  '(',\n",
       "  'sort',\n",
       "  'of',\n",
       "  'a',\n",
       "  'better',\n",
       "  'version',\n",
       "  'of',\n",
       "  'basic',\n",
       "  'instinct',\n",
       "  ')',\n",
       "  'there',\n",
       "  'is',\n",
       "  'bound',\n",
       "  'to',\n",
       "  'be',\n",
       "  'people',\n",
       "  'who',\n",
       "  'either',\n",
       "  'love',\n",
       "  'it',\n",
       "  'or',\n",
       "  'hate',\n",
       "  'it',\n",
       "  '.',\n",
       "  'there',\n",
       "  'will',\n",
       "  'be',\n",
       "  'people',\n",
       "  'who',\n",
       "  'don',\n",
       "  \"'\",\n",
       "  't',\n",
       "  'want',\n",
       "  'to',\n",
       "  'admit',\n",
       "  'liking',\n",
       "  'what',\n",
       "  'they',\n",
       "  'see',\n",
       "  ',',\n",
       "  'but',\n",
       "  'i',\n",
       "  'tell',\n",
       "  'you',\n",
       "  ',',\n",
       "  'most',\n",
       "  'anyone',\n",
       "  'who',\n",
       "  'sees',\n",
       "  'this',\n",
       "  'will',\n",
       "  'like',\n",
       "  'it',\n",
       "  '.',\n",
       "  'wild',\n",
       "  'things',\n",
       "  'begins',\n",
       "  'at',\n",
       "  'blue',\n",
       "  'bay',\n",
       "  'high',\n",
       "  'school',\n",
       "  ',',\n",
       "  'the',\n",
       "  'one',\n",
       "  'high',\n",
       "  'school',\n",
       "  'in',\n",
       "  'the',\n",
       "  'world',\n",
       "  'that',\n",
       "  'any',\n",
       "  'teenager',\n",
       "  'would',\n",
       "  'love',\n",
       "  'to',\n",
       "  'get',\n",
       "  'into',\n",
       "  '.',\n",
       "  'it',\n",
       "  \"'\",\n",
       "  's',\n",
       "  'almost',\n",
       "  'as',\n",
       "  'if',\n",
       "  'students',\n",
       "  'are',\n",
       "  'put',\n",
       "  'through',\n",
       "  'entrance',\n",
       "  'exams',\n",
       "  'just',\n",
       "  'for',\n",
       "  'admittance',\n",
       "  '(',\n",
       "  'totally',\n",
       "  'based',\n",
       "  'on',\n",
       "  'looks',\n",
       "  'alone',\n",
       "  ')',\n",
       "  '.',\n",
       "  'of',\n",
       "  'course',\n",
       "  ',',\n",
       "  'there',\n",
       "  'are',\n",
       "  'those',\n",
       "  'select',\n",
       "  'few',\n",
       "  'who',\n",
       "  'may',\n",
       "  'look',\n",
       "  'slightly',\n",
       "  'ugly',\n",
       "  ',',\n",
       "  'but',\n",
       "  'compared',\n",
       "  'to',\n",
       "  'the',\n",
       "  'average',\n",
       "  'person',\n",
       "  ',',\n",
       "  'they',\n",
       "  'are',\n",
       "  'gorgeous',\n",
       "  '.',\n",
       "  'immediately',\n",
       "  ',',\n",
       "  'the',\n",
       "  'film',\n",
       "  'finds',\n",
       "  'its',\n",
       "  'tone',\n",
       "  'and',\n",
       "  'the',\n",
       "  'audience',\n",
       "  'settles',\n",
       "  'in',\n",
       "  'for',\n",
       "  'an',\n",
       "  'enjoyable',\n",
       "  'time',\n",
       "  '.',\n",
       "  'we',\n",
       "  'can',\n",
       "  'turn',\n",
       "  'off',\n",
       "  'our',\n",
       "  'brains',\n",
       "  ',',\n",
       "  'right',\n",
       "  '?',\n",
       "  'wrong',\n",
       "  '.',\n",
       "  'while',\n",
       "  'you',\n",
       "  'may',\n",
       "  'be',\n",
       "  'expecting',\n",
       "  'one',\n",
       "  'thing',\n",
       "  'to',\n",
       "  'happen',\n",
       "  ',',\n",
       "  'it',\n",
       "  'certainly',\n",
       "  'doesn',\n",
       "  \"'\",\n",
       "  't',\n",
       "  'turn',\n",
       "  'out',\n",
       "  'that',\n",
       "  'way',\n",
       "  '.',\n",
       "  'the',\n",
       "  'film',\n",
       "  'begins',\n",
       "  'in',\n",
       "  'a',\n",
       "  'classroom',\n",
       "  ',',\n",
       "  'with',\n",
       "  'nearly',\n",
       "  'all',\n",
       "  'the',\n",
       "  'main',\n",
       "  'characters',\n",
       "  'present',\n",
       "  '.',\n",
       "  'there',\n",
       "  \"'\",\n",
       "  's',\n",
       "  'sam',\n",
       "  'lombardo',\n",
       "  '(',\n",
       "  'matt',\n",
       "  'dillon',\n",
       "  ')',\n",
       "  ',',\n",
       "  'a',\n",
       "  'counselor',\n",
       "  'for',\n",
       "  'the',\n",
       "  'students',\n",
       "  '.',\n",
       "  'he',\n",
       "  \"'\",\n",
       "  's',\n",
       "  'heading',\n",
       "  'the',\n",
       "  'class',\n",
       "  'discussion',\n",
       "  '.',\n",
       "  'there',\n",
       "  \"'\",\n",
       "  's',\n",
       "  'also',\n",
       "  'kelly',\n",
       "  'van',\n",
       "  'ryan',\n",
       "  '(',\n",
       "  'denise',\n",
       "  'richards',\n",
       "  ')',\n",
       "  ',',\n",
       "  'a',\n",
       "  'snobby',\n",
       "  'rich',\n",
       "  'teen',\n",
       "  'who',\n",
       "  'has',\n",
       "  'fallen',\n",
       "  'in',\n",
       "  'love',\n",
       "  'with',\n",
       "  'sam',\n",
       "  '.',\n",
       "  'teaching',\n",
       "  'the',\n",
       "  'class',\n",
       "  ',',\n",
       "  'however',\n",
       "  ',',\n",
       "  'are',\n",
       "  'two',\n",
       "  'policemen',\n",
       "  ':',\n",
       "  'ray',\n",
       "  'duquette',\n",
       "  '(',\n",
       "  'kevin',\n",
       "  'bacon',\n",
       "  ')',\n",
       "  'and',\n",
       "  'gloria',\n",
       "  'perez',\n",
       "  '(',\n",
       "  'daphne',\n",
       "  'rubin',\n",
       "  '-',\n",
       "  'vega',\n",
       "  ')',\n",
       "  ',',\n",
       "  'who',\n",
       "  'want',\n",
       "  'to',\n",
       "  'talk',\n",
       "  'about',\n",
       "  \"'\",\n",
       "  'sex',\n",
       "  '.',\n",
       "  '.',\n",
       "  '.',\n",
       "  '(',\n",
       "  'cheers',\n",
       "  ')',\n",
       "  'crimes',\n",
       "  '(',\n",
       "  'boos',\n",
       "  ')',\n",
       "  \"'\",\n",
       "  '.',\n",
       "  '\"',\n",
       "  'what',\n",
       "  'is',\n",
       "  'a',\n",
       "  'sex',\n",
       "  'crime',\n",
       "  '?',\n",
       "  '\"',\n",
       "  'ray',\n",
       "  'asks',\n",
       "  '.',\n",
       "  '\"',\n",
       "  'not',\n",
       "  'gettin',\n",
       "  \"'\",\n",
       "  'any',\n",
       "  '!',\n",
       "  '\"',\n",
       "  'one',\n",
       "  'student',\n",
       "  'responds',\n",
       "  '.',\n",
       "  'this',\n",
       "  'pretty',\n",
       "  'much',\n",
       "  'sets',\n",
       "  'the',\n",
       "  'tone',\n",
       "  'of',\n",
       "  'the',\n",
       "  'film',\n",
       "  'we',\n",
       "  'are',\n",
       "  'about',\n",
       "  'to',\n",
       "  'watch',\n",
       "  '.',\n",
       "  'however',\n",
       "  ',',\n",
       "  'upon',\n",
       "  'hearing',\n",
       "  'this',\n",
       "  ',',\n",
       "  'one',\n",
       "  'student',\n",
       "  ',',\n",
       "  'suzie',\n",
       "  'toller',\n",
       "  '(',\n",
       "  'neve',\n",
       "  'campbell',\n",
       "  ')',\n",
       "  ',',\n",
       "  'stands',\n",
       "  'up',\n",
       "  'and',\n",
       "  'leaves',\n",
       "  'the',\n",
       "  'room',\n",
       "  ',',\n",
       "  'commenting',\n",
       "  'that',\n",
       "  'they',\n",
       "  'can',\n",
       "  'both',\n",
       "  'kiss',\n",
       "  'part',\n",
       "  'of',\n",
       "  'her',\n",
       "  'body',\n",
       "  '.',\n",
       "  'and',\n",
       "  'so',\n",
       "  ',',\n",
       "  'wild',\n",
       "  'things',\n",
       "  'sets',\n",
       "  'into',\n",
       "  'motion',\n",
       "  '.',\n",
       "  'quickly',\n",
       "  ',',\n",
       "  'kelly',\n",
       "  'begins',\n",
       "  'hitting',\n",
       "  'on',\n",
       "  'sam',\n",
       "  ',',\n",
       "  'but',\n",
       "  'sam',\n",
       "  'doesn',\n",
       "  \"'\",\n",
       "  't',\n",
       "  'want',\n",
       "  'anything',\n",
       "  'to',\n",
       "  'do',\n",
       "  'with',\n",
       "  'her',\n",
       "  'advances',\n",
       "  '.',\n",
       "  'kelly',\n",
       "  'is',\n",
       "  'stubborn',\n",
       "  'and',\n",
       "  'continues',\n",
       "  'to',\n",
       "  'pursue',\n",
       "  'him',\n",
       "  '.',\n",
       "  'she',\n",
       "  'even',\n",
       "  'pleads',\n",
       "  'with',\n",
       "  'him',\n",
       "  'to',\n",
       "  'let',\n",
       "  'her',\n",
       "  'wash',\n",
       "  'his',\n",
       "  'jeep',\n",
       "  '.',\n",
       "  'surprisingly',\n",
       "  ',',\n",
       "  'that',\n",
       "  \"'\",\n",
       "  's',\n",
       "  'really',\n",
       "  'all',\n",
       "  'i',\n",
       "  'can',\n",
       "  'tell',\n",
       "  'you',\n",
       "  'about',\n",
       "  'the',\n",
       "  'plot',\n",
       "  '.',\n",
       "  'any',\n",
       "  'more',\n",
       "  'would',\n",
       "  'give',\n",
       "  'away',\n",
       "  'one',\n",
       "  'of',\n",
       "  'the',\n",
       "  'many',\n",
       "  'crucial',\n",
       "  'plot',\n",
       "  'twists',\n",
       "  '.',\n",
       "  'and',\n",
       "  'what',\n",
       "  \"'\",\n",
       "  's',\n",
       "  'more',\n",
       "  ',',\n",
       "  'these',\n",
       "  'plot',\n",
       "  'twists',\n",
       "  'are',\n",
       "  'actually',\n",
       "  'unpredictable',\n",
       "  '.',\n",
       "  'going',\n",
       "  'along',\n",
       "  'the',\n",
       "  'way',\n",
       "  'of',\n",
       "  'scream',\n",
       "  ',',\n",
       "  'wild',\n",
       "  'things',\n",
       "  'maintains',\n",
       "  'that',\n",
       "  'film',\n",
       "  \"'\",\n",
       "  's',\n",
       "  'surprises',\n",
       "  ',',\n",
       "  'and',\n",
       "  'then',\n",
       "  'adds',\n",
       "  'even',\n",
       "  'more',\n",
       "  'to',\n",
       "  'them',\n",
       "  '.',\n",
       "  'there',\n",
       "  'are',\n",
       "  'more',\n",
       "  'plot',\n",
       "  'twists',\n",
       "  'in',\n",
       "  'this',\n",
       "  'film',\n",
       "  'than',\n",
       "  'probably',\n",
       "  'any',\n",
       "  'i',\n",
       "  'have',\n",
       "  'ever',\n",
       "  'seen',\n",
       "  '.',\n",
       "  'and',\n",
       "  'even',\n",
       "  'though',\n",
       "  'you',\n",
       "  'think',\n",
       "  'you',\n",
       "  'may',\n",
       "  'get',\n",
       "  'tired',\n",
       "  'of',\n",
       "  'them',\n",
       "  ',',\n",
       "  'the',\n",
       "  'surprises',\n",
       "  'are',\n",
       "  'so',\n",
       "  'genuine',\n",
       "  'that',\n",
       "  'it',\n",
       "  \"'\",\n",
       "  's',\n",
       "  'rather',\n",
       "  'pleasing',\n",
       "  '.',\n",
       "  'going',\n",
       "  'back',\n",
       "  'over',\n",
       "  'them',\n",
       "  'in',\n",
       "  'my',\n",
       "  'mind',\n",
       "  ',',\n",
       "  'nearly',\n",
       "  'all',\n",
       "  'of',\n",
       "  'them',\n",
       "  'work',\n",
       "  ',',\n",
       "  'though',\n",
       "  'some',\n",
       "  'stretch',\n",
       "  'the',\n",
       "  'boundaries',\n",
       "  'of',\n",
       "  'belief',\n",
       "  '.',\n",
       "  'thankfully',\n",
       "  ',',\n",
       "  'the',\n",
       "  'convoluted',\n",
       "  'plot',\n",
       "  'doesn',\n",
       "  \"'\",\n",
       "  't',\n",
       "  'give',\n",
       "  'us',\n",
       "  'much',\n",
       "  'time',\n",
       "  'to',\n",
       "  'think',\n",
       "  'about',\n",
       "  'each',\n",
       "  'one',\n",
       "  ',',\n",
       "  'pouncing',\n",
       "  'yet',\n",
       "  'another',\n",
       "  'twist',\n",
       "  'on',\n",
       "  'us',\n",
       "  'before',\n",
       "  'the',\n",
       "  'shock',\n",
       "  'of',\n",
       "  'the',\n",
       "  'previous',\n",
       "  'one',\n",
       "  'has',\n",
       "  'worn',\n",
       "  'off',\n",
       "  '.',\n",
       "  'as',\n",
       "  'for',\n",
       "  'the',\n",
       "  'critics',\n",
       "  'who',\n",
       "  'complain',\n",
       "  'that',\n",
       "  'the',\n",
       "  'film',\n",
       "  'is',\n",
       "  'trashy',\n",
       "  '--',\n",
       "  'well',\n",
       "  ',',\n",
       "  'it',\n",
       "  'is',\n",
       "  '.',\n",
       "  'this',\n",
       "  'is',\n",
       "  'pretty',\n",
       "  'much',\n",
       "  'just',\n",
       "  'one',\n",
       "  'trashy',\n",
       "  'film',\n",
       "  '.',\n",
       "  'however',\n",
       "  ',',\n",
       "  'it',\n",
       "  'is',\n",
       "  'the',\n",
       "  'kind',\n",
       "  'of',\n",
       "  'trashy',\n",
       "  'that',\n",
       "  'isn',\n",
       "  \"'\",\n",
       "  't',\n",
       "  'hard',\n",
       "  'to',\n",
       "  'watch',\n",
       "  '.',\n",
       "  'it',\n",
       "  \"'\",\n",
       "  's',\n",
       "  'good',\n",
       "  'trash',\n",
       "  ',',\n",
       "  'in',\n",
       "  'a',\n",
       "  'sense',\n",
       "  '.',\n",
       "  'one',\n",
       "  ',',\n",
       "  'the',\n",
       "  'screenplay',\n",
       "  'knows',\n",
       "  'that',\n",
       "  'it',\n",
       "  \"'\",\n",
       "  's',\n",
       "  'not',\n",
       "  'to',\n",
       "  'be',\n",
       "  'taken',\n",
       "  'seriously',\n",
       "  ',',\n",
       "  'and',\n",
       "  'it',\n",
       "  'includes',\n",
       "  'a',\n",
       "  'lot',\n",
       "  'of',\n",
       "  'humor',\n",
       "  'and',\n",
       "  'satire',\n",
       "  'into',\n",
       "  'the',\n",
       "  'story',\n",
       "  '.',\n",
       "  'this',\n",
       "  'varies',\n",
       "  'everywhere',\n",
       "  'from',\n",
       "  'kelly',\n",
       "  \"'\",\n",
       "  's',\n",
       "  'mother',\n",
       "  '(',\n",
       "  'theresa',\n",
       "  'russell',\n",
       "  ')',\n",
       "  ',',\n",
       "  'who',\n",
       "  'is',\n",
       "  'more',\n",
       "  'of',\n",
       "  'a',\n",
       "  'caricature',\n",
       "  'of',\n",
       "  'rich',\n",
       "  'people',\n",
       "  ',',\n",
       "  'all',\n",
       "  'the',\n",
       "  'way',\n",
       "  'to',\n",
       "  'an',\n",
       "  'ambulance',\n",
       "  '-',\n",
       "  'chasing',\n",
       "  'lawyer',\n",
       "  '(',\n",
       "  'bill',\n",
       "  'murray',\n",
       "  ')',\n",
       "  ',',\n",
       "  'who',\n",
       "  'wears',\n",
       "  'a',\n",
       "  'neck',\n",
       "  '-',\n",
       "  ...],\n",
       " 'pos')"
      ]
     },
     "execution_count": 42,
     "metadata": {},
     "output_type": "execute_result"
    }
   ],
   "source": [
    "documents[2]"
   ]
  },
  {
   "cell_type": "code",
   "execution_count": 43,
   "metadata": {},
   "outputs": [
    {
     "name": "stdout",
     "output_type": "stream",
     "text": [
      "[(',', 77717), ('the', 76529), ('.', 65876), ('a', 38106), ('and', 35576), ('of', 34123), ('to', 31937), (\"'\", 30585), ('is', 25195), ('in', 21822), ('s', 18513), ('\"', 17612), ('it', 16107), ('that', 15924), ('-', 15595)]\n"
     ]
    }
   ],
   "source": [
    "all_words=[]\n",
    "for w in movie_reviews.words():\n",
    "    all_words.append(w.lower())#append in lowercase\n",
    "    \n",
    "all_words=nltk.FreqDist(all_words)#frequency distribution of all words\n",
    "print(all_words.most_common(15))"
   ]
  },
  {
   "cell_type": "code",
   "execution_count": 44,
   "metadata": {},
   "outputs": [
    {
     "name": "stdout",
     "output_type": "stream",
     "text": [
      "17\n"
     ]
    }
   ],
   "source": [
    "print(all_words[\"fuck\"])"
   ]
  },
  {
   "cell_type": "code",
   "execution_count": 45,
   "metadata": {},
   "outputs": [],
   "source": [
    "#KEYS\n",
    "all_words1=[]\n",
    "for w in movie_reviews.words():\n",
    "    all_words1.append(w.lower())\n",
    "    \n",
    "all_words1=nltk.FreqDist(all_words1)\n",
    "\n",
    "word_features=list(all_words1.keys())[:3000]#top 3000 words except words like articles \n",
    "#print(word_features)\n",
    "#print(\"##################################\")\n",
    "#print(\"\\n\\n\\n\\n\\n\")\n",
    "#print(all_words1.most_common(3000))\n",
    "#print(\"##################################\")\n",
    "#print(\"\\n\\n\\n\\n\\n\")\n",
    "def find_features(document):\n",
    "    words=set(document)\n",
    "    features={}\n",
    "    for w in word_features:\n",
    "        features[w]=(w in words)\n",
    "    return features\n",
    "#print((find_features(movie_reviews.words(\"neg/cv000_29416.txt\"))))\n",
    "#path of this txtfile=\"/home/chiranjeev/nltk_data/corpora/movie_reviews/neg/cv000_2941.txt\"\n",
    "featuresets=[(find_features(rev),category) for (rev,category) in documents]\n"
   ]
  },
  {
   "cell_type": "code",
   "execution_count": 46,
   "metadata": {},
   "outputs": [
    {
     "name": "stdout",
     "output_type": "stream",
     "text": [
      "accuracy: 77.0\n",
      "Most Informative Features\n",
      "                   sucks = True              neg : pos    =      9.8 : 1.0\n",
      "               addresses = True              pos : neg    =      9.0 : 1.0\n",
      "              accessible = True              pos : neg    =      9.0 : 1.0\n",
      "          excruciatingly = True              neg : pos    =      8.3 : 1.0\n",
      "                predator = True              neg : pos    =      8.3 : 1.0\n",
      "                  feeble = True              neg : pos    =      8.3 : 1.0\n",
      "                observes = True              pos : neg    =      7.0 : 1.0\n",
      "                    lore = True              pos : neg    =      7.0 : 1.0\n",
      "               affecting = True              pos : neg    =      6.6 : 1.0\n",
      "                obstacle = True              pos : neg    =      6.3 : 1.0\n",
      "                   jules = True              pos : neg    =      6.3 : 1.0\n",
      "                  stinks = True              neg : pos    =      5.8 : 1.0\n",
      "                 regards = True              pos : neg    =      5.7 : 1.0\n",
      "              resentment = True              pos : neg    =      5.7 : 1.0\n",
      "                  purple = True              pos : neg    =      5.7 : 1.0\n"
     ]
    }
   ],
   "source": [
    "#NAIVE BAYES CLASSIFIER\n",
    "training_set=featuresets[:1900]\n",
    "test_set=featuresets[1900:]\n",
    "\n",
    "#classifier = nltk.DecisionTreeClassifier.train(training_set)\n",
    "\n",
    "classifier=nltk.NaiveBayesClassifier.train(training_set)\n",
    "#IF U SAVE CLASSSIFIER , then\n",
    "# u can directly use without retraining it evry time\n",
    "#format--\n",
    "#classifier_f=open(\"naivebayes.pickle\",\"rb\")\n",
    "#classifier=pickle.load(classifier_f)\n",
    "#classifier_f.close()\n",
    "print(\"accuracy:\",nltk.classify.accuracy(classifier,test_set)*100)\n",
    "\n",
    "classifier.show_most_informative_features(15)"
   ]
  },
  {
   "cell_type": "code",
   "execution_count": 53,
   "metadata": {},
   "outputs": [],
   "source": [
    "#save in form of .py not .ipynb\n",
    "#so for thid prefer idle\n",
    "import pickle\n",
    "#SAVING CLASSIFIER\n",
    "save_classifier=open(\"naivebayes.pickle\",\"wb\")\n",
    "pickle.dump(classifier,save_classifier)\n",
    "save_classifier.close()\n",
    "\n"
   ]
  },
  {
   "cell_type": "code",
   "execution_count": 54,
   "metadata": {},
   "outputs": [],
   "source": [
    "from nltk.classify.scikitlearn import SklearnClassifier\n",
    "from sklearn.naive_bayes import MultinomialNB, GaussianNB, BernoulliNB"
   ]
  },
  {
   "cell_type": "code",
   "execution_count": 55,
   "metadata": {},
   "outputs": [
    {
     "name": "stdout",
     "output_type": "stream",
     "text": [
      "mnb_accuracy: 77.0\n"
     ]
    }
   ],
   "source": [
    "#USING MNB CLASSSIFIER\n",
    "MNB_classifier=SklearnClassifier(MultinomialNB())\n",
    "MNB_classifier.train(training_set)\n",
    "print(\"mnb_accuracy:\",nltk.classify.accuracy(MNB_classifier,test_set)*100)"
   ]
  },
  {
   "cell_type": "code",
   "execution_count": 56,
   "metadata": {},
   "outputs": [
    {
     "data": {
      "text/plain": [
       "'\\n#USING GNBCLASSSIFIER\\nGNB_classifier=SklearnClassifier(GaussianNB())\\nGNB_classifier.train(training_set)\\nprint(\"gnb_accuracy:\",nltk.classify.accuracy(GNB_classifier,test_set)*100)\\n'"
      ]
     },
     "execution_count": 56,
     "metadata": {},
     "output_type": "execute_result"
    }
   ],
   "source": [
    "\"\"\"\n",
    "#USING GNBCLASSSIFIER\n",
    "GNB_classifier=SklearnClassifier(GaussianNB())\n",
    "GNB_classifier.train(training_set)\n",
    "print(\"gnb_accuracy:\",nltk.classify.accuracy(GNB_classifier,test_set)*100)\n",
    "\"\"\""
   ]
  },
  {
   "cell_type": "code",
   "execution_count": 57,
   "metadata": {},
   "outputs": [
    {
     "name": "stdout",
     "output_type": "stream",
     "text": [
      "bn_accuracy: 79.0\n"
     ]
    }
   ],
   "source": [
    "#USING bernoulliCLASSSIFIER\n",
    "BN_classifier=SklearnClassifier(BernoulliNB())\n",
    "BN_classifier.train(training_set)\n",
    "print(\"bn_accuracy:\",nltk.classify.accuracy(BN_classifier,test_set)*100)"
   ]
  },
  {
   "cell_type": "code",
   "execution_count": 58,
   "metadata": {},
   "outputs": [],
   "source": [
    "from sklearn.linear_model import LogisticRegression,SGDClassifier\n",
    "from sklearn.svm import SVC,LinearSVC,NuSVC"
   ]
  },
  {
   "cell_type": "code",
   "execution_count": 59,
   "metadata": {},
   "outputs": [
    {
     "name": "stderr",
     "output_type": "stream",
     "text": [
      "/home/chiranjeev/.local/lib/python3.5/site-packages/sklearn/linear_model/logistic.py:433: FutureWarning: Default solver will be changed to 'lbfgs' in 0.22. Specify a solver to silence this warning.\n",
      "  FutureWarning)\n"
     ]
    },
    {
     "name": "stdout",
     "output_type": "stream",
     "text": [
      "logistic_regression accuracy: 68.0\n"
     ]
    }
   ],
   "source": [
    "logistic_regression=SklearnClassifier(LogisticRegression())\n",
    "logistic_regression.train(training_set)\n",
    "print(\"logistic_regression accuracy:\",nltk.classify.accuracy(logistic_regression,test_set)*100)"
   ]
  },
  {
   "cell_type": "code",
   "execution_count": 60,
   "metadata": {},
   "outputs": [
    {
     "name": "stderr",
     "output_type": "stream",
     "text": [
      "/home/chiranjeev/.local/lib/python3.5/site-packages/sklearn/linear_model/stochastic_gradient.py:166: FutureWarning: max_iter and tol parameters have been added in SGDClassifier in 0.19. If both are left unset, they default to max_iter=5 and tol=None. If tol is not None, max_iter defaults to max_iter=1000. From 0.21, default max_iter will be 1000, and default tol will be 1e-3.\n",
      "  FutureWarning)\n"
     ]
    },
    {
     "name": "stdout",
     "output_type": "stream",
     "text": [
      "SGDClassifier accuracy: 66.0\n"
     ]
    }
   ],
   "source": [
    "SGDClassifier=SklearnClassifier(SGDClassifier())\n",
    "SGDClassifier.train(training_set)\n",
    "print(\"SGDClassifier accuracy:\",nltk.classify.accuracy(SGDClassifier,test_set)*100)"
   ]
  },
  {
   "cell_type": "code",
   "execution_count": 61,
   "metadata": {},
   "outputs": [
    {
     "name": "stderr",
     "output_type": "stream",
     "text": [
      "/home/chiranjeev/.local/lib/python3.5/site-packages/sklearn/svm/base.py:196: FutureWarning: The default value of gamma will change from 'auto' to 'scale' in version 0.22 to account better for unscaled features. Set gamma explicitly to 'auto' or 'scale' to avoid this warning.\n",
      "  \"avoid this warning.\", FutureWarning)\n"
     ]
    },
    {
     "name": "stdout",
     "output_type": "stream",
     "text": [
      "SVC_Classifier accuracy: 70.0\n"
     ]
    }
   ],
   "source": [
    "SVC_Classifier=SklearnClassifier(SVC())\n",
    "SVC_Classifier.train(training_set)\n",
    "print(\"SVC_Classifier accuracy:\",nltk.classify.accuracy(SVC_Classifier,test_set)*100)"
   ]
  },
  {
   "cell_type": "code",
   "execution_count": 62,
   "metadata": {},
   "outputs": [
    {
     "name": "stdout",
     "output_type": "stream",
     "text": [
      "LinearSVC_Classifier accuracy: 70.0\n"
     ]
    }
   ],
   "source": [
    "LinearSVC_Classifier=SklearnClassifier(LinearSVC())\n",
    "LinearSVC_Classifier.train(training_set)\n",
    "print(\"LinearSVC_Classifier accuracy:\",nltk.classify.accuracy(LinearSVC_Classifier,test_set)*100)"
   ]
  },
  {
   "cell_type": "code",
   "execution_count": 63,
   "metadata": {},
   "outputs": [
    {
     "name": "stdout",
     "output_type": "stream",
     "text": [
      "NuSVC_Classifier accuracy: 66.0\n"
     ]
    }
   ],
   "source": [
    "NuSVC_Classifier=SklearnClassifier(NuSVC())\n",
    "NuSVC_Classifier.train(training_set)\n",
    "print(\"NuSVC_Classifier accuracy:\",nltk.classify.accuracy(NuSVC_Classifier,test_set)*100)"
   ]
  },
  {
   "cell_type": "code",
   "execution_count": 78,
   "metadata": {},
   "outputs": [
    {
     "name": "stdout",
     "output_type": "stream",
     "text": [
      "['neg', 'neg', 'neg', 'pos', 'neg', 'pos', 'pos']\n",
      "['pos', 'pos', 'pos', 'pos', 'neg', 'pos', 'pos']\n",
      "['pos', 'pos', 'pos', 'pos', 'pos', 'pos', 'pos']\n",
      "['pos', 'pos', 'pos', 'pos', 'pos', 'pos', 'pos']\n",
      "['neg', 'neg', 'neg', 'neg', 'neg', 'pos', 'neg']\n",
      "['pos', 'pos', 'pos', 'pos', 'neg', 'pos', 'pos']\n",
      "['neg', 'neg', 'neg', 'pos', 'neg', 'neg', 'neg']\n",
      "['pos', 'pos', 'pos', 'pos', 'neg', 'pos', 'pos']\n",
      "['neg', 'neg', 'neg', 'neg', 'neg', 'neg', 'neg']\n",
      "['pos', 'pos', 'pos', 'pos', 'neg', 'pos', 'pos']\n",
      "['neg', 'neg', 'neg', 'neg', 'neg', 'neg', 'pos']\n",
      "['neg', 'neg', 'neg', 'pos', 'neg', 'pos', 'neg']\n",
      "['pos', 'pos', 'pos', 'pos', 'pos', 'pos', 'pos']\n",
      "['neg', 'neg', 'neg', 'pos', 'pos', 'pos', 'pos']\n",
      "['neg', 'neg', 'neg', 'neg', 'neg', 'neg', 'neg']\n",
      "['pos', 'neg', 'neg', 'neg', 'neg', 'neg', 'neg']\n",
      "['neg', 'neg', 'neg', 'neg', 'neg', 'neg', 'neg']\n",
      "['neg', 'pos', 'pos', 'pos', 'neg', 'pos', 'pos']\n",
      "['pos', 'pos', 'pos', 'pos', 'neg', 'pos', 'pos']\n",
      "['neg', 'pos', 'neg', 'neg', 'neg', 'neg', 'neg']\n",
      "['pos', 'pos', 'pos', 'pos', 'pos', 'pos', 'pos']\n",
      "['pos', 'pos', 'pos', 'neg', 'neg', 'pos', 'neg']\n",
      "['pos', 'pos', 'pos', 'neg', 'neg', 'neg', 'neg']\n",
      "['neg', 'pos', 'neg', 'pos', 'neg', 'neg', 'pos']\n",
      "['pos', 'pos', 'pos', 'pos', 'neg', 'pos', 'pos']\n",
      "['neg', 'neg', 'neg', 'neg', 'pos', 'neg', 'pos']\n",
      "['pos', 'pos', 'pos', 'pos', 'pos', 'pos', 'pos']\n",
      "['pos', 'pos', 'pos', 'pos', 'pos', 'pos', 'pos']\n",
      "['neg', 'neg', 'neg', 'neg', 'neg', 'neg', 'neg']\n",
      "['neg', 'neg', 'neg', 'neg', 'neg', 'neg', 'neg']\n",
      "['neg', 'neg', 'neg', 'pos', 'neg', 'pos', 'pos']\n",
      "['pos', 'pos', 'pos', 'pos', 'pos', 'pos', 'pos']\n",
      "['neg', 'neg', 'neg', 'pos', 'neg', 'pos', 'pos']\n",
      "['pos', 'pos', 'pos', 'pos', 'neg', 'pos', 'pos']\n",
      "['neg', 'neg', 'neg', 'neg', 'neg', 'neg', 'neg']\n",
      "['neg', 'neg', 'neg', 'pos', 'pos', 'neg', 'pos']\n",
      "['pos', 'pos', 'pos', 'pos', 'pos', 'pos', 'pos']\n",
      "['neg', 'neg', 'neg', 'neg', 'neg', 'neg', 'neg']\n",
      "['neg', 'neg', 'neg', 'neg', 'neg', 'pos', 'neg']\n",
      "['pos', 'pos', 'pos', 'pos', 'neg', 'pos', 'pos']\n",
      "['neg', 'neg', 'neg', 'neg', 'neg', 'neg', 'neg']\n",
      "['pos', 'pos', 'pos', 'pos', 'neg', 'pos', 'pos']\n",
      "['neg', 'neg', 'neg', 'neg', 'neg', 'neg', 'neg']\n",
      "['pos', 'pos', 'pos', 'pos', 'pos', 'pos', 'pos']\n",
      "['pos', 'pos', 'pos', 'pos', 'pos', 'pos', 'pos']\n",
      "['pos', 'pos', 'pos', 'pos', 'pos', 'pos', 'pos']\n",
      "['pos', 'pos', 'pos', 'pos', 'pos', 'pos', 'pos']\n",
      "['pos', 'pos', 'pos', 'pos', 'neg', 'pos', 'pos']\n",
      "['pos', 'pos', 'pos', 'pos', 'pos', 'pos', 'pos']\n",
      "['neg', 'neg', 'neg', 'neg', 'neg', 'neg', 'neg']\n",
      "['neg', 'neg', 'neg', 'neg', 'neg', 'pos', 'neg']\n",
      "['pos', 'pos', 'pos', 'neg', 'pos', 'neg', 'pos']\n",
      "['pos', 'pos', 'pos', 'pos', 'neg', 'pos', 'pos']\n",
      "['pos', 'pos', 'pos', 'pos', 'pos', 'pos', 'pos']\n",
      "['pos', 'pos', 'pos', 'pos', 'neg', 'pos', 'neg']\n",
      "['neg', 'neg', 'neg', 'pos', 'neg', 'pos', 'neg']\n",
      "['neg', 'neg', 'neg', 'pos', 'neg', 'pos', 'neg']\n",
      "['neg', 'neg', 'neg', 'neg', 'neg', 'neg', 'neg']\n",
      "['pos', 'pos', 'pos', 'pos', 'pos', 'pos', 'pos']\n",
      "['pos', 'pos', 'pos', 'pos', 'pos', 'neg', 'pos']\n",
      "['pos', 'pos', 'pos', 'pos', 'pos', 'pos', 'pos']\n",
      "['neg', 'neg', 'neg', 'pos', 'pos', 'pos', 'pos']\n",
      "['pos', 'pos', 'pos', 'pos', 'neg', 'pos', 'neg']\n",
      "['neg', 'neg', 'neg', 'neg', 'neg', 'neg', 'neg']\n",
      "['neg', 'neg', 'neg', 'neg', 'neg', 'neg', 'neg']\n",
      "['neg', 'neg', 'neg', 'neg', 'neg', 'neg', 'neg']\n",
      "['pos', 'pos', 'pos', 'pos', 'pos', 'pos', 'pos']\n",
      "['neg', 'neg', 'neg', 'neg', 'neg', 'neg', 'neg']\n",
      "['pos', 'pos', 'pos', 'pos', 'neg', 'pos', 'pos']\n",
      "['neg', 'neg', 'neg', 'pos', 'neg', 'neg', 'pos']\n",
      "['pos', 'pos', 'pos', 'pos', 'pos', 'pos', 'pos']\n",
      "['neg', 'neg', 'neg', 'neg', 'neg', 'neg', 'neg']\n",
      "['pos', 'pos', 'pos', 'pos', 'pos', 'pos', 'pos']\n",
      "['pos', 'pos', 'pos', 'pos', 'pos', 'pos', 'pos']\n",
      "['neg', 'neg', 'neg', 'neg', 'neg', 'pos', 'neg']\n",
      "['neg', 'neg', 'neg', 'neg', 'neg', 'pos', 'neg']\n",
      "['pos', 'pos', 'pos', 'pos', 'neg', 'pos', 'pos']\n",
      "['pos', 'pos', 'pos', 'pos', 'pos', 'pos', 'pos']\n",
      "['pos', 'pos', 'pos', 'pos', 'pos', 'pos', 'pos']\n",
      "['neg', 'pos', 'neg', 'neg', 'neg', 'neg', 'neg']\n",
      "['pos', 'pos', 'pos', 'pos', 'pos', 'pos', 'pos']\n",
      "['pos', 'pos', 'pos', 'pos', 'pos', 'pos', 'pos']\n",
      "['pos', 'pos', 'pos', 'pos', 'neg', 'neg', 'pos']\n",
      "['pos', 'pos', 'pos', 'pos', 'pos', 'pos', 'pos']\n",
      "['pos', 'pos', 'pos', 'pos', 'pos', 'pos', 'pos']\n",
      "['pos', 'pos', 'pos', 'pos', 'pos', 'pos', 'pos']\n",
      "['neg', 'neg', 'neg', 'neg', 'neg', 'neg', 'neg']\n",
      "['neg', 'neg', 'neg', 'neg', 'neg', 'neg', 'neg']\n",
      "['pos', 'pos', 'pos', 'pos', 'neg', 'pos', 'pos']\n",
      "['pos', 'pos', 'pos', 'pos', 'pos', 'pos', 'pos']\n",
      "['pos', 'pos', 'pos', 'neg', 'neg', 'neg', 'neg']\n",
      "['pos', 'neg', 'pos', 'neg', 'pos', 'neg', 'pos']\n",
      "['neg', 'neg', 'neg', 'neg', 'neg', 'neg', 'neg']\n",
      "['pos', 'pos', 'pos', 'pos', 'pos', 'neg', 'pos']\n",
      "['pos', 'pos', 'pos', 'pos', 'neg', 'neg', 'pos']\n",
      "['neg', 'neg', 'neg', 'neg', 'neg', 'neg', 'neg']\n",
      "['pos', 'pos', 'pos', 'pos', 'neg', 'pos', 'pos']\n",
      "['pos', 'pos', 'pos', 'pos', 'pos', 'pos', 'pos']\n",
      "['pos', 'pos', 'pos', 'pos', 'pos', 'pos', 'pos']\n",
      "['neg', 'neg', 'neg', 'neg', 'neg', 'neg', 'neg']\n",
      "voted_classifier accuracy: 75.0\n",
      "['neg', 'neg', 'neg', 'pos', 'neg', 'pos', 'pos']\n",
      "4\n",
      "classfication: neg 57.14285714285714\n",
      "['pos', 'pos', 'pos', 'pos', 'neg', 'pos', 'pos']\n",
      "6\n",
      "classfication: pos 85.71428571428571\n",
      "['neg', 'neg', 'neg', 'neg', 'neg', 'pos', 'neg']\n",
      "6\n",
      "classfication: neg 85.71428571428571\n",
      "['pos', 'pos', 'pos', 'pos', 'pos', 'pos', 'pos']\n",
      "7\n",
      "classfication: pos 100.0\n"
     ]
    }
   ],
   "source": [
    "from nltk.classify import ClassifierI\n",
    "from statistics import mode\n",
    "\n",
    "class VoteClassifier(ClassifierI):\n",
    "    def __init__(self,*classifiers):\n",
    "        self._classifiers=classifiers\n",
    "    def classify(self,features):\n",
    "        votes=[]\n",
    "        for c in self._classifiers:\n",
    "            v=c.classify(features)\n",
    "            votes.append(v)\n",
    "        print(votes)\n",
    "        return mode(votes)\n",
    "    def confidence(self,features):\n",
    "        votes=[]\n",
    "        for c in self._classifiers:\n",
    "            v=c.classify(features)    \n",
    "            votes.append(v)\n",
    "       \n",
    "        choice_votes=votes.count(mode(votes))\n",
    "        print(choice_votes)\n",
    "        conf=choice_votes/len(votes)\n",
    "        return conf\n",
    "#DONT TAKE EVEN NO. OF CLASSIFIERS\n",
    "voted_classifier=VoteClassifier(classifier,MNB_classifier,BN_classifier,logistic_regression,SVC_Classifier,LinearSVC_Classifier,NuSVC_Classifier)#,,SGDClassifier)\n",
    "\n",
    "print(\"voted_classifier accuracy:\",nltk.classify.accuracy(voted_classifier,test_set)*100)\n",
    "print(\"classfication:\",voted_classifier.classify(test_set[0][0]),voted_classifier.confidence(test_set[0][0])*100)\n",
    "print(\"classfication:\",voted_classifier.classify(test_set[1][0]),voted_classifier.confidence(test_set[1][0])*100)\n",
    "print(\"classfication:\",voted_classifier.classify(test_set[4][0]),voted_classifier.confidence(test_set[4][0])*100)\n",
    "print(\"classfication:\",voted_classifier.classify(test_set[3][0]),voted_classifier.confidence(test_set[3][0])*100)"
   ]
  },
  {
   "cell_type": "code",
   "execution_count": null,
   "metadata": {},
   "outputs": [],
   "source": []
  }
 ],
 "metadata": {
  "kernelspec": {
   "display_name": "Python 3",
   "language": "python",
   "name": "python3"
  },
  "language_info": {
   "codemirror_mode": {
    "name": "ipython",
    "version": 3
   },
   "file_extension": ".py",
   "mimetype": "text/x-python",
   "name": "python",
   "nbconvert_exporter": "python",
   "pygments_lexer": "ipython3",
   "version": "3.5.2"
  }
 },
 "nbformat": 4,
 "nbformat_minor": 2
}
